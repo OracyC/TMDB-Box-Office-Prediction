{
  "nbformat": 4,
  "nbformat_minor": 0,
  "metadata": {
    "kernelspec": {
      "display_name": "Python 3",
      "language": "python",
      "name": "python3"
    },
    "language_info": {
      "codemirror_mode": {
        "name": "ipython",
        "version": 3
      },
      "file_extension": ".py",
      "mimetype": "text/x-python",
      "name": "python",
      "nbconvert_exporter": "python",
      "pygments_lexer": "ipython3",
      "version": "3.7.3"
    },
    "colab": {
      "name": "TMDB_Box_Office_Prediction.ipynb",
      "provenance": [],
      "collapsed_sections": [],
      "include_colab_link": true
    }
  },
  "cells": [
    {
      "cell_type": "markdown",
      "metadata": {
        "id": "view-in-github",
        "colab_type": "text"
      },
      "source": [
        "<a href=\"https://colab.research.google.com/github/OracyC/TMDB-Box-Office-Prediction/blob/master/TMDB_Box_Office_Prediction.ipynb\" target=\"_parent\"><img src=\"https://colab.research.google.com/assets/colab-badge.svg\" alt=\"Open In Colab\"/></a>"
      ]
    },
    {
      "cell_type": "markdown",
      "metadata": {
        "id": "qgrv1OiVMsFh",
        "colab_type": "text"
      },
      "source": [
        "# Load data\n",
        "\n"
      ]
    },
    {
      "cell_type": "code",
      "metadata": {
        "id": "y80252oEAKAh",
        "colab_type": "code",
        "outputId": "3bdf4a03-97f1-4876-9acd-0bfabc02647d",
        "colab": {
          "base_uri": "https://localhost:8080/",
          "height": 639
        }
      },
      "source": [
        "files = \"https://github.com/OracyC/TMDB-Box-Office-Prediction/raw/master/tmdb-box-office-prediction.zip\" \n",
        "!rm -rf * && pip install git+https://github.com/data-8/Gofer-Grader && wget $files && unzip -o tmdb-box-office-prediction.zip"
      ],
      "execution_count": 1,
      "outputs": [
        {
          "output_type": "stream",
          "text": [
            "Collecting git+https://github.com/data-8/Gofer-Grader\n",
            "  Cloning https://github.com/data-8/Gofer-Grader to /tmp/pip-req-build-uux8rgfk\n",
            "  Running command git clone -q https://github.com/data-8/Gofer-Grader /tmp/pip-req-build-uux8rgfk\n",
            "Requirement already satisfied (use --upgrade to upgrade): gofer-grader==1.0.9 from git+https://github.com/data-8/Gofer-Grader in /usr/local/lib/python3.6/dist-packages\n",
            "Requirement already satisfied: jinja2 in /usr/local/lib/python3.6/dist-packages (from gofer-grader==1.0.9) (2.10.3)\n",
            "Requirement already satisfied: pygments in /usr/local/lib/python3.6/dist-packages (from gofer-grader==1.0.9) (2.1.3)\n",
            "Requirement already satisfied: tornado in /usr/local/lib/python3.6/dist-packages (from gofer-grader==1.0.9) (4.5.3)\n",
            "Requirement already satisfied: MarkupSafe>=0.23 in /usr/local/lib/python3.6/dist-packages (from jinja2->gofer-grader==1.0.9) (1.1.1)\n",
            "Building wheels for collected packages: gofer-grader\n",
            "  Building wheel for gofer-grader (setup.py) ... \u001b[?25l\u001b[?25hdone\n",
            "  Created wheel for gofer-grader: filename=gofer_grader-1.0.9-cp36-none-any.whl size=10169 sha256=a12a9a07ce19b15a5b837b68c6610709df257116e5d6769fc0cb5206322a8ce8\n",
            "  Stored in directory: /tmp/pip-ephem-wheel-cache-0l2pf_3t/wheels/9e/62/24/8563ae039051d6ba979557d1766bfebbda5dd08f8572e3e35d\n",
            "Successfully built gofer-grader\n",
            "--2019-12-06 17:16:31--  https://github.com/OracyC/TMDB-Box-Office-Prediction/raw/master/tmdb-box-office-prediction.zip\n",
            "Resolving github.com (github.com)... 140.82.113.4\n",
            "Connecting to github.com (github.com)|140.82.113.4|:443... connected.\n",
            "HTTP request sent, awaiting response... 302 Found\n",
            "Location: https://raw.githubusercontent.com/OracyC/TMDB-Box-Office-Prediction/master/tmdb-box-office-prediction.zip [following]\n",
            "--2019-12-06 17:16:31--  https://raw.githubusercontent.com/OracyC/TMDB-Box-Office-Prediction/master/tmdb-box-office-prediction.zip\n",
            "Resolving raw.githubusercontent.com (raw.githubusercontent.com)... 151.101.0.133, 151.101.64.133, 151.101.128.133, ...\n",
            "Connecting to raw.githubusercontent.com (raw.githubusercontent.com)|151.101.0.133|:443... connected.\n",
            "HTTP request sent, awaiting response... 200 OK\n",
            "Length: 18303616 (17M) [application/zip]\n",
            "Saving to: ‘tmdb-box-office-prediction.zip’\n",
            "\n",
            "tmdb-box-office-pre 100%[===================>]  17.46M  93.2MB/s    in 0.2s    \n",
            "\n",
            "2019-12-06 17:16:32 (93.2 MB/s) - ‘tmdb-box-office-prediction.zip’ saved [18303616/18303616]\n",
            "\n",
            "Archive:  tmdb-box-office-prediction.zip\n",
            "  inflating: sample_submission.csv   \n",
            "  inflating: test.csv                \n",
            "  inflating: TestAdditionalFeatures.csv  \n",
            "  inflating: train.csv               \n",
            "  inflating: TrainAdditionalFeatures.csv  \n"
          ],
          "name": "stdout"
        }
      ]
    },
    {
      "cell_type": "code",
      "metadata": {
        "id": "Ybs7ucjqAIty",
        "colab_type": "code",
        "colab": {}
      },
      "source": [
        "import pandas as pd\n",
        "import numpy as np\n",
        "\n",
        "train = pd.read_csv('train.csv')\n",
        "test = pd.read_csv('test.csv')"
      ],
      "execution_count": 0,
      "outputs": []
    },
    {
      "cell_type": "code",
      "metadata": {
        "id": "romy9x0aB-MB",
        "colab_type": "code",
        "colab": {}
      },
      "source": [
        "trainAdditionalFeatures = pd.read_csv('TrainAdditionalFeatures.csv')\n",
        "testAdditionalFeatures = pd.read_csv('TestAdditionalFeatures.csv')\n",
        "\n",
        "train = pd.merge(train, trainAdditionalFeatures, how='left', on=['imdb_id'])\n",
        "test = pd.merge(test, testAdditionalFeatures, how='left', on=['imdb_id'])"
      ],
      "execution_count": 0,
      "outputs": []
    },
    {
      "cell_type": "code",
      "metadata": {
        "id": "m4mKDY1aM7wj",
        "colab_type": "code",
        "colab": {}
      },
      "source": [
        "train = train.drop_duplicates()\n",
        "test = test.drop_duplicates()"
      ],
      "execution_count": 0,
      "outputs": []
    },
    {
      "cell_type": "markdown",
      "metadata": {
        "id": "AlxtBS16NKzJ",
        "colab_type": "text"
      },
      "source": [
        "# EDA & Feature Engerineering"
      ]
    },
    {
      "cell_type": "code",
      "metadata": {
        "id": "zgoqUweGAIt2",
        "colab_type": "code",
        "outputId": "55d021f4-22a0-4e64-b5c7-91a8cd6dd388",
        "colab": {
          "base_uri": "https://localhost:8080/",
          "height": 141
        }
      },
      "source": [
        "train.columns"
      ],
      "execution_count": 5,
      "outputs": [
        {
          "output_type": "execute_result",
          "data": {
            "text/plain": [
              "Index(['id', 'belongs_to_collection', 'budget', 'genres', 'homepage',\n",
              "       'imdb_id', 'original_language', 'original_title', 'overview',\n",
              "       'popularity', 'poster_path', 'production_companies',\n",
              "       'production_countries', 'release_date', 'runtime', 'spoken_languages',\n",
              "       'status', 'tagline', 'title', 'Keywords', 'cast', 'crew', 'revenue',\n",
              "       'popularity2', 'rating', 'totalVotes'],\n",
              "      dtype='object')"
            ]
          },
          "metadata": {
            "tags": []
          },
          "execution_count": 5
        }
      ]
    },
    {
      "cell_type": "code",
      "metadata": {
        "id": "malO-2AUAIt5",
        "colab_type": "code",
        "outputId": "b1a6cc88-bdde-4b66-cb77-d8a9d42587ca",
        "colab": {
          "base_uri": "https://localhost:8080/",
          "height": 629
        }
      },
      "source": [
        "train.head()"
      ],
      "execution_count": 6,
      "outputs": [
        {
          "output_type": "execute_result",
          "data": {
            "text/html": [
              "<div>\n",
              "<style scoped>\n",
              "    .dataframe tbody tr th:only-of-type {\n",
              "        vertical-align: middle;\n",
              "    }\n",
              "\n",
              "    .dataframe tbody tr th {\n",
              "        vertical-align: top;\n",
              "    }\n",
              "\n",
              "    .dataframe thead th {\n",
              "        text-align: right;\n",
              "    }\n",
              "</style>\n",
              "<table border=\"1\" class=\"dataframe\">\n",
              "  <thead>\n",
              "    <tr style=\"text-align: right;\">\n",
              "      <th></th>\n",
              "      <th>id</th>\n",
              "      <th>belongs_to_collection</th>\n",
              "      <th>budget</th>\n",
              "      <th>genres</th>\n",
              "      <th>homepage</th>\n",
              "      <th>imdb_id</th>\n",
              "      <th>original_language</th>\n",
              "      <th>original_title</th>\n",
              "      <th>overview</th>\n",
              "      <th>popularity</th>\n",
              "      <th>poster_path</th>\n",
              "      <th>production_companies</th>\n",
              "      <th>production_countries</th>\n",
              "      <th>release_date</th>\n",
              "      <th>runtime</th>\n",
              "      <th>spoken_languages</th>\n",
              "      <th>status</th>\n",
              "      <th>tagline</th>\n",
              "      <th>title</th>\n",
              "      <th>Keywords</th>\n",
              "      <th>cast</th>\n",
              "      <th>crew</th>\n",
              "      <th>revenue</th>\n",
              "      <th>popularity2</th>\n",
              "      <th>rating</th>\n",
              "      <th>totalVotes</th>\n",
              "    </tr>\n",
              "  </thead>\n",
              "  <tbody>\n",
              "    <tr>\n",
              "      <th>0</th>\n",
              "      <td>1</td>\n",
              "      <td>[{'id': 313576, 'name': 'Hot Tub Time Machine ...</td>\n",
              "      <td>14000000</td>\n",
              "      <td>[{'id': 35, 'name': 'Comedy'}]</td>\n",
              "      <td>NaN</td>\n",
              "      <td>tt2637294</td>\n",
              "      <td>en</td>\n",
              "      <td>Hot Tub Time Machine 2</td>\n",
              "      <td>When Lou, who has become the \"father of the In...</td>\n",
              "      <td>6.575393</td>\n",
              "      <td>/tQtWuwvMf0hCc2QR2tkolwl7c3c.jpg</td>\n",
              "      <td>[{'name': 'Paramount Pictures', 'id': 4}, {'na...</td>\n",
              "      <td>[{'iso_3166_1': 'US', 'name': 'United States o...</td>\n",
              "      <td>2/20/15</td>\n",
              "      <td>93.0</td>\n",
              "      <td>[{'iso_639_1': 'en', 'name': 'English'}]</td>\n",
              "      <td>Released</td>\n",
              "      <td>The Laws of Space and Time are About to be Vio...</td>\n",
              "      <td>Hot Tub Time Machine 2</td>\n",
              "      <td>[{'id': 4379, 'name': 'time travel'}, {'id': 9...</td>\n",
              "      <td>[{'cast_id': 4, 'character': 'Lou', 'credit_id...</td>\n",
              "      <td>[{'credit_id': '59ac067c92514107af02c8c8', 'de...</td>\n",
              "      <td>12314651</td>\n",
              "      <td>10.400</td>\n",
              "      <td>5.0</td>\n",
              "      <td>482.0</td>\n",
              "    </tr>\n",
              "    <tr>\n",
              "      <th>1</th>\n",
              "      <td>2</td>\n",
              "      <td>[{'id': 107674, 'name': 'The Princess Diaries ...</td>\n",
              "      <td>40000000</td>\n",
              "      <td>[{'id': 35, 'name': 'Comedy'}, {'id': 18, 'nam...</td>\n",
              "      <td>NaN</td>\n",
              "      <td>tt0368933</td>\n",
              "      <td>en</td>\n",
              "      <td>The Princess Diaries 2: Royal Engagement</td>\n",
              "      <td>Mia Thermopolis is now a college graduate and ...</td>\n",
              "      <td>8.248895</td>\n",
              "      <td>/w9Z7A0GHEhIp7etpj0vyKOeU1Wx.jpg</td>\n",
              "      <td>[{'name': 'Walt Disney Pictures', 'id': 2}]</td>\n",
              "      <td>[{'iso_3166_1': 'US', 'name': 'United States o...</td>\n",
              "      <td>8/6/04</td>\n",
              "      <td>113.0</td>\n",
              "      <td>[{'iso_639_1': 'en', 'name': 'English'}]</td>\n",
              "      <td>Released</td>\n",
              "      <td>It can take a lifetime to find true love; she'...</td>\n",
              "      <td>The Princess Diaries 2: Royal Engagement</td>\n",
              "      <td>[{'id': 2505, 'name': 'coronation'}, {'id': 42...</td>\n",
              "      <td>[{'cast_id': 1, 'character': 'Mia Thermopolis'...</td>\n",
              "      <td>[{'credit_id': '52fe43fe9251416c7502563d', 'de...</td>\n",
              "      <td>95149435</td>\n",
              "      <td>15.229</td>\n",
              "      <td>6.4</td>\n",
              "      <td>1528.0</td>\n",
              "    </tr>\n",
              "    <tr>\n",
              "      <th>2</th>\n",
              "      <td>3</td>\n",
              "      <td>NaN</td>\n",
              "      <td>3300000</td>\n",
              "      <td>[{'id': 18, 'name': 'Drama'}]</td>\n",
              "      <td>http://sonyclassics.com/whiplash/</td>\n",
              "      <td>tt2582802</td>\n",
              "      <td>en</td>\n",
              "      <td>Whiplash</td>\n",
              "      <td>Under the direction of a ruthless instructor, ...</td>\n",
              "      <td>64.299990</td>\n",
              "      <td>/lIv1QinFqz4dlp5U4lQ6HaiskOZ.jpg</td>\n",
              "      <td>[{'name': 'Bold Films', 'id': 2266}, {'name': ...</td>\n",
              "      <td>[{'iso_3166_1': 'US', 'name': 'United States o...</td>\n",
              "      <td>10/10/14</td>\n",
              "      <td>105.0</td>\n",
              "      <td>[{'iso_639_1': 'en', 'name': 'English'}]</td>\n",
              "      <td>Released</td>\n",
              "      <td>The road to greatness can take you to the edge.</td>\n",
              "      <td>Whiplash</td>\n",
              "      <td>[{'id': 1416, 'name': 'jazz'}, {'id': 1523, 'n...</td>\n",
              "      <td>[{'cast_id': 5, 'character': 'Andrew Neimann',...</td>\n",
              "      <td>[{'credit_id': '54d5356ec3a3683ba0000039', 'de...</td>\n",
              "      <td>13092000</td>\n",
              "      <td>26.082</td>\n",
              "      <td>8.4</td>\n",
              "      <td>7314.0</td>\n",
              "    </tr>\n",
              "    <tr>\n",
              "      <th>3</th>\n",
              "      <td>4</td>\n",
              "      <td>NaN</td>\n",
              "      <td>1200000</td>\n",
              "      <td>[{'id': 53, 'name': 'Thriller'}, {'id': 18, 'n...</td>\n",
              "      <td>http://kahaanithefilm.com/</td>\n",
              "      <td>tt1821480</td>\n",
              "      <td>hi</td>\n",
              "      <td>Kahaani</td>\n",
              "      <td>Vidya Bagchi (Vidya Balan) arrives in Kolkata ...</td>\n",
              "      <td>3.174936</td>\n",
              "      <td>/aTXRaPrWSinhcmCrcfJK17urp3F.jpg</td>\n",
              "      <td>NaN</td>\n",
              "      <td>[{'iso_3166_1': 'IN', 'name': 'India'}]</td>\n",
              "      <td>3/9/12</td>\n",
              "      <td>122.0</td>\n",
              "      <td>[{'iso_639_1': 'en', 'name': 'English'}, {'iso...</td>\n",
              "      <td>Released</td>\n",
              "      <td>NaN</td>\n",
              "      <td>Kahaani</td>\n",
              "      <td>[{'id': 10092, 'name': 'mystery'}, {'id': 1054...</td>\n",
              "      <td>[{'cast_id': 1, 'character': 'Vidya Bagchi', '...</td>\n",
              "      <td>[{'credit_id': '52fe48779251416c9108d6eb', 'de...</td>\n",
              "      <td>16000000</td>\n",
              "      <td>5.531</td>\n",
              "      <td>7.5</td>\n",
              "      <td>115.0</td>\n",
              "    </tr>\n",
              "    <tr>\n",
              "      <th>4</th>\n",
              "      <td>5</td>\n",
              "      <td>NaN</td>\n",
              "      <td>0</td>\n",
              "      <td>[{'id': 28, 'name': 'Action'}, {'id': 53, 'nam...</td>\n",
              "      <td>NaN</td>\n",
              "      <td>tt1380152</td>\n",
              "      <td>ko</td>\n",
              "      <td>마린보이</td>\n",
              "      <td>Marine Boy is the story of a former national s...</td>\n",
              "      <td>1.148070</td>\n",
              "      <td>/m22s7zvkVFDU9ir56PiiqIEWFdT.jpg</td>\n",
              "      <td>NaN</td>\n",
              "      <td>[{'iso_3166_1': 'KR', 'name': 'South Korea'}]</td>\n",
              "      <td>2/5/09</td>\n",
              "      <td>118.0</td>\n",
              "      <td>[{'iso_639_1': 'ko', 'name': '한국어/조선말'}]</td>\n",
              "      <td>Released</td>\n",
              "      <td>NaN</td>\n",
              "      <td>Marine Boy</td>\n",
              "      <td>NaN</td>\n",
              "      <td>[{'cast_id': 3, 'character': 'Chun-soo', 'cred...</td>\n",
              "      <td>[{'credit_id': '52fe464b9251416c75073b43', 'de...</td>\n",
              "      <td>3923970</td>\n",
              "      <td>NaN</td>\n",
              "      <td>NaN</td>\n",
              "      <td>NaN</td>\n",
              "    </tr>\n",
              "  </tbody>\n",
              "</table>\n",
              "</div>"
            ],
            "text/plain": [
              "   id                              belongs_to_collection  ...  rating totalVotes\n",
              "0   1  [{'id': 313576, 'name': 'Hot Tub Time Machine ...  ...     5.0      482.0\n",
              "1   2  [{'id': 107674, 'name': 'The Princess Diaries ...  ...     6.4     1528.0\n",
              "2   3                                                NaN  ...     8.4     7314.0\n",
              "3   4                                                NaN  ...     7.5      115.0\n",
              "4   5                                                NaN  ...     NaN        NaN\n",
              "\n",
              "[5 rows x 26 columns]"
            ]
          },
          "metadata": {
            "tags": []
          },
          "execution_count": 6
        }
      ]
    },
    {
      "cell_type": "code",
      "metadata": {
        "id": "afui_tdXAIuB",
        "colab_type": "code",
        "outputId": "9dbf0da6-f45f-4748-856c-7bbfd4f69a19",
        "colab": {
          "base_uri": "https://localhost:8080/",
          "height": 612
        }
      },
      "source": [
        "test.head()"
      ],
      "execution_count": 7,
      "outputs": [
        {
          "output_type": "execute_result",
          "data": {
            "text/html": [
              "<div>\n",
              "<style scoped>\n",
              "    .dataframe tbody tr th:only-of-type {\n",
              "        vertical-align: middle;\n",
              "    }\n",
              "\n",
              "    .dataframe tbody tr th {\n",
              "        vertical-align: top;\n",
              "    }\n",
              "\n",
              "    .dataframe thead th {\n",
              "        text-align: right;\n",
              "    }\n",
              "</style>\n",
              "<table border=\"1\" class=\"dataframe\">\n",
              "  <thead>\n",
              "    <tr style=\"text-align: right;\">\n",
              "      <th></th>\n",
              "      <th>id</th>\n",
              "      <th>belongs_to_collection</th>\n",
              "      <th>budget</th>\n",
              "      <th>genres</th>\n",
              "      <th>homepage</th>\n",
              "      <th>imdb_id</th>\n",
              "      <th>original_language</th>\n",
              "      <th>original_title</th>\n",
              "      <th>overview</th>\n",
              "      <th>popularity</th>\n",
              "      <th>poster_path</th>\n",
              "      <th>production_companies</th>\n",
              "      <th>production_countries</th>\n",
              "      <th>release_date</th>\n",
              "      <th>runtime</th>\n",
              "      <th>spoken_languages</th>\n",
              "      <th>status</th>\n",
              "      <th>tagline</th>\n",
              "      <th>title</th>\n",
              "      <th>Keywords</th>\n",
              "      <th>cast</th>\n",
              "      <th>crew</th>\n",
              "      <th>popularity2</th>\n",
              "      <th>rating</th>\n",
              "      <th>totalVotes</th>\n",
              "    </tr>\n",
              "  </thead>\n",
              "  <tbody>\n",
              "    <tr>\n",
              "      <th>0</th>\n",
              "      <td>3001</td>\n",
              "      <td>[{'id': 34055, 'name': 'Pokémon Collection', '...</td>\n",
              "      <td>0</td>\n",
              "      <td>[{'id': 12, 'name': 'Adventure'}, {'id': 16, '...</td>\n",
              "      <td>http://www.pokemon.com/us/movies/movie-pokemon...</td>\n",
              "      <td>tt1226251</td>\n",
              "      <td>ja</td>\n",
              "      <td>ディアルガVSパルキアVSダークライ</td>\n",
              "      <td>Ash and friends (this time accompanied by newc...</td>\n",
              "      <td>3.851534</td>\n",
              "      <td>/tnftmLMemPLduW6MRyZE0ZUD19z.jpg</td>\n",
              "      <td>NaN</td>\n",
              "      <td>[{'iso_3166_1': 'JP', 'name': 'Japan'}, {'iso_...</td>\n",
              "      <td>7/14/07</td>\n",
              "      <td>90.0</td>\n",
              "      <td>[{'iso_639_1': 'en', 'name': 'English'}, {'iso...</td>\n",
              "      <td>Released</td>\n",
              "      <td>Somewhere Between Time &amp; Space... A Legend Is ...</td>\n",
              "      <td>Pokémon: The Rise of Darkrai</td>\n",
              "      <td>[{'id': 11451, 'name': 'pok√©mon'}, {'id': 115...</td>\n",
              "      <td>[{'cast_id': 3, 'character': 'Tonio', 'credit_...</td>\n",
              "      <td>[{'credit_id': '52fe44e7c3a368484e03d683', 'de...</td>\n",
              "      <td>6.468</td>\n",
              "      <td>6.6</td>\n",
              "      <td>91.0</td>\n",
              "    </tr>\n",
              "    <tr>\n",
              "      <th>1</th>\n",
              "      <td>3002</td>\n",
              "      <td>NaN</td>\n",
              "      <td>88000</td>\n",
              "      <td>[{'id': 27, 'name': 'Horror'}, {'id': 878, 'na...</td>\n",
              "      <td>NaN</td>\n",
              "      <td>tt0051380</td>\n",
              "      <td>en</td>\n",
              "      <td>Attack of the 50 Foot Woman</td>\n",
              "      <td>When an abused wife grows to giant size becaus...</td>\n",
              "      <td>3.559789</td>\n",
              "      <td>/9MgBNBqlH1sG4yG2u4XkwI5CoJa.jpg</td>\n",
              "      <td>[{'name': 'Woolner Brothers Pictures Inc.', 'i...</td>\n",
              "      <td>[{'iso_3166_1': 'US', 'name': 'United States o...</td>\n",
              "      <td>5/19/58</td>\n",
              "      <td>65.0</td>\n",
              "      <td>[{'iso_639_1': 'en', 'name': 'English'}]</td>\n",
              "      <td>Released</td>\n",
              "      <td>A titanic beauty spreads a macabre wave of hor...</td>\n",
              "      <td>Attack of the 50 Foot Woman</td>\n",
              "      <td>[{'id': 9748, 'name': 'revenge'}, {'id': 9951,...</td>\n",
              "      <td>[{'cast_id': 2, 'character': 'Nancy Fowler Arc...</td>\n",
              "      <td>[{'credit_id': '55807805c3a3685b1300060b', 'de...</td>\n",
              "      <td>3.649</td>\n",
              "      <td>4.5</td>\n",
              "      <td>51.0</td>\n",
              "    </tr>\n",
              "    <tr>\n",
              "      <th>2</th>\n",
              "      <td>3003</td>\n",
              "      <td>NaN</td>\n",
              "      <td>0</td>\n",
              "      <td>[{'id': 35, 'name': 'Comedy'}, {'id': 10749, '...</td>\n",
              "      <td>NaN</td>\n",
              "      <td>tt0118556</td>\n",
              "      <td>en</td>\n",
              "      <td>Addicted to Love</td>\n",
              "      <td>Good-natured astronomer Sam is devastated when...</td>\n",
              "      <td>8.085194</td>\n",
              "      <td>/ed6nD7h9sbojSWY2qrnDcSvDFko.jpg</td>\n",
              "      <td>[{'name': 'Warner Bros.', 'id': 6194}, {'name'...</td>\n",
              "      <td>[{'iso_3166_1': 'US', 'name': 'United States o...</td>\n",
              "      <td>5/23/97</td>\n",
              "      <td>100.0</td>\n",
              "      <td>[{'iso_639_1': 'en', 'name': 'English'}]</td>\n",
              "      <td>Released</td>\n",
              "      <td>A Comedy About Lost Loves And Last Laughs</td>\n",
              "      <td>Addicted to Love</td>\n",
              "      <td>[{'id': 931, 'name': 'jealousy'}, {'id': 9673,...</td>\n",
              "      <td>[{'cast_id': 11, 'character': 'Maggie', 'credi...</td>\n",
              "      <td>[{'credit_id': '52fe4330c3a36847f8041367', 'de...</td>\n",
              "      <td>9.012</td>\n",
              "      <td>6.1</td>\n",
              "      <td>176.0</td>\n",
              "    </tr>\n",
              "    <tr>\n",
              "      <th>3</th>\n",
              "      <td>3004</td>\n",
              "      <td>NaN</td>\n",
              "      <td>6800000</td>\n",
              "      <td>[{'id': 18, 'name': 'Drama'}, {'id': 10752, 'n...</td>\n",
              "      <td>http://www.sonyclassics.com/incendies/</td>\n",
              "      <td>tt1255953</td>\n",
              "      <td>fr</td>\n",
              "      <td>Incendies</td>\n",
              "      <td>A mother's last wishes send twins Jeanne and S...</td>\n",
              "      <td>8.596012</td>\n",
              "      <td>/sEUG3qjxwHjxkzuO7plrRHhOZUH.jpg</td>\n",
              "      <td>[{'name': 'TS Productions', 'id': 313}, {'name...</td>\n",
              "      <td>[{'iso_3166_1': 'CA', 'name': 'Canada'}, {'iso...</td>\n",
              "      <td>9/4/10</td>\n",
              "      <td>130.0</td>\n",
              "      <td>[{'iso_639_1': 'fr', 'name': 'Français'}, {'is...</td>\n",
              "      <td>Released</td>\n",
              "      <td>The search began at the opening of their mothe...</td>\n",
              "      <td>Incendies</td>\n",
              "      <td>[{'id': 378, 'name': 'prison'}, {'id': 539, 'n...</td>\n",
              "      <td>[{'cast_id': 6, 'character': 'Nawal', 'credit_...</td>\n",
              "      <td>[{'credit_id': '56478092c3a36826140043af', 'de...</td>\n",
              "      <td>10.923</td>\n",
              "      <td>8.0</td>\n",
              "      <td>937.0</td>\n",
              "    </tr>\n",
              "    <tr>\n",
              "      <th>4</th>\n",
              "      <td>3005</td>\n",
              "      <td>NaN</td>\n",
              "      <td>2000000</td>\n",
              "      <td>[{'id': 36, 'name': 'History'}, {'id': 99, 'na...</td>\n",
              "      <td>NaN</td>\n",
              "      <td>tt0418753</td>\n",
              "      <td>en</td>\n",
              "      <td>Inside Deep Throat</td>\n",
              "      <td>In 1972, a seemingly typical shoestring budget...</td>\n",
              "      <td>3.217680</td>\n",
              "      <td>/n4WC3zbelz6SG7rhkWbf8m9pMHB.jpg</td>\n",
              "      <td>NaN</td>\n",
              "      <td>[{'iso_3166_1': 'US', 'name': 'United States o...</td>\n",
              "      <td>2/11/05</td>\n",
              "      <td>92.0</td>\n",
              "      <td>[{'iso_639_1': 'en', 'name': 'English'}]</td>\n",
              "      <td>Released</td>\n",
              "      <td>It was filmed in 6 days for 25 thousand dollar...</td>\n",
              "      <td>Inside Deep Throat</td>\n",
              "      <td>[{'id': 279, 'name': 'usa'}, {'id': 1228, 'nam...</td>\n",
              "      <td>[{'cast_id': 1, 'character': 'Narrator (voice)...</td>\n",
              "      <td>[{'credit_id': '52fe44ce9251416c75041967', 'de...</td>\n",
              "      <td>5.692</td>\n",
              "      <td>6.8</td>\n",
              "      <td>50.0</td>\n",
              "    </tr>\n",
              "  </tbody>\n",
              "</table>\n",
              "</div>"
            ],
            "text/plain": [
              "     id                              belongs_to_collection  ...  rating totalVotes\n",
              "0  3001  [{'id': 34055, 'name': 'Pokémon Collection', '...  ...     6.6       91.0\n",
              "1  3002                                                NaN  ...     4.5       51.0\n",
              "2  3003                                                NaN  ...     6.1      176.0\n",
              "3  3004                                                NaN  ...     8.0      937.0\n",
              "4  3005                                                NaN  ...     6.8       50.0\n",
              "\n",
              "[5 rows x 25 columns]"
            ]
          },
          "metadata": {
            "tags": []
          },
          "execution_count": 7
        }
      ]
    },
    {
      "cell_type": "code",
      "metadata": {
        "scrolled": true,
        "id": "w_-CDUC2AIuD",
        "colab_type": "code",
        "outputId": "c2cbbde0-2424-48ad-df9f-3c193fdd8cca",
        "colab": {
          "base_uri": "https://localhost:8080/",
          "height": 291
        }
      },
      "source": [
        "train.describe()"
      ],
      "execution_count": 8,
      "outputs": [
        {
          "output_type": "execute_result",
          "data": {
            "text/html": [
              "<div>\n",
              "<style scoped>\n",
              "    .dataframe tbody tr th:only-of-type {\n",
              "        vertical-align: middle;\n",
              "    }\n",
              "\n",
              "    .dataframe tbody tr th {\n",
              "        vertical-align: top;\n",
              "    }\n",
              "\n",
              "    .dataframe thead th {\n",
              "        text-align: right;\n",
              "    }\n",
              "</style>\n",
              "<table border=\"1\" class=\"dataframe\">\n",
              "  <thead>\n",
              "    <tr style=\"text-align: right;\">\n",
              "      <th></th>\n",
              "      <th>id</th>\n",
              "      <th>budget</th>\n",
              "      <th>popularity</th>\n",
              "      <th>runtime</th>\n",
              "      <th>revenue</th>\n",
              "      <th>popularity2</th>\n",
              "      <th>rating</th>\n",
              "      <th>totalVotes</th>\n",
              "    </tr>\n",
              "  </thead>\n",
              "  <tbody>\n",
              "    <tr>\n",
              "      <th>count</th>\n",
              "      <td>3000.000000</td>\n",
              "      <td>3.000000e+03</td>\n",
              "      <td>3000.000000</td>\n",
              "      <td>2998.000000</td>\n",
              "      <td>3.000000e+03</td>\n",
              "      <td>2882.000000</td>\n",
              "      <td>2882.000000</td>\n",
              "      <td>2882.000000</td>\n",
              "    </tr>\n",
              "    <tr>\n",
              "      <th>mean</th>\n",
              "      <td>1500.500000</td>\n",
              "      <td>2.253133e+07</td>\n",
              "      <td>8.463274</td>\n",
              "      <td>107.856571</td>\n",
              "      <td>6.672585e+07</td>\n",
              "      <td>8.029303</td>\n",
              "      <td>6.366308</td>\n",
              "      <td>933.938584</td>\n",
              "    </tr>\n",
              "    <tr>\n",
              "      <th>std</th>\n",
              "      <td>866.169729</td>\n",
              "      <td>3.702609e+07</td>\n",
              "      <td>12.104000</td>\n",
              "      <td>22.086434</td>\n",
              "      <td>1.375323e+08</td>\n",
              "      <td>4.959153</td>\n",
              "      <td>0.887465</td>\n",
              "      <td>1795.101380</td>\n",
              "    </tr>\n",
              "    <tr>\n",
              "      <th>min</th>\n",
              "      <td>1.000000</td>\n",
              "      <td>0.000000e+00</td>\n",
              "      <td>0.000001</td>\n",
              "      <td>0.000000</td>\n",
              "      <td>1.000000e+00</td>\n",
              "      <td>0.600000</td>\n",
              "      <td>1.000000</td>\n",
              "      <td>1.000000</td>\n",
              "    </tr>\n",
              "    <tr>\n",
              "      <th>25%</th>\n",
              "      <td>750.750000</td>\n",
              "      <td>0.000000e+00</td>\n",
              "      <td>4.018053</td>\n",
              "      <td>94.000000</td>\n",
              "      <td>2.379808e+06</td>\n",
              "      <td>5.046250</td>\n",
              "      <td>5.800000</td>\n",
              "      <td>82.000000</td>\n",
              "    </tr>\n",
              "    <tr>\n",
              "      <th>50%</th>\n",
              "      <td>1500.500000</td>\n",
              "      <td>8.000000e+06</td>\n",
              "      <td>7.374861</td>\n",
              "      <td>104.000000</td>\n",
              "      <td>1.680707e+07</td>\n",
              "      <td>7.503500</td>\n",
              "      <td>6.400000</td>\n",
              "      <td>292.500000</td>\n",
              "    </tr>\n",
              "    <tr>\n",
              "      <th>75%</th>\n",
              "      <td>2250.250000</td>\n",
              "      <td>2.900000e+07</td>\n",
              "      <td>10.890983</td>\n",
              "      <td>118.000000</td>\n",
              "      <td>6.891920e+07</td>\n",
              "      <td>9.987000</td>\n",
              "      <td>7.000000</td>\n",
              "      <td>900.500000</td>\n",
              "    </tr>\n",
              "    <tr>\n",
              "      <th>max</th>\n",
              "      <td>3000.000000</td>\n",
              "      <td>3.800000e+08</td>\n",
              "      <td>294.337037</td>\n",
              "      <td>338.000000</td>\n",
              "      <td>1.519558e+09</td>\n",
              "      <td>45.153000</td>\n",
              "      <td>9.000000</td>\n",
              "      <td>18931.000000</td>\n",
              "    </tr>\n",
              "  </tbody>\n",
              "</table>\n",
              "</div>"
            ],
            "text/plain": [
              "                id        budget  ...       rating    totalVotes\n",
              "count  3000.000000  3.000000e+03  ...  2882.000000   2882.000000\n",
              "mean   1500.500000  2.253133e+07  ...     6.366308    933.938584\n",
              "std     866.169729  3.702609e+07  ...     0.887465   1795.101380\n",
              "min       1.000000  0.000000e+00  ...     1.000000      1.000000\n",
              "25%     750.750000  0.000000e+00  ...     5.800000     82.000000\n",
              "50%    1500.500000  8.000000e+06  ...     6.400000    292.500000\n",
              "75%    2250.250000  2.900000e+07  ...     7.000000    900.500000\n",
              "max    3000.000000  3.800000e+08  ...     9.000000  18931.000000\n",
              "\n",
              "[8 rows x 8 columns]"
            ]
          },
          "metadata": {
            "tags": []
          },
          "execution_count": 8
        }
      ]
    },
    {
      "cell_type": "code",
      "metadata": {
        "id": "Yk3rJKYVAIuF",
        "colab_type": "code",
        "outputId": "61baf033-d746-49b0-a64d-55312d11b2aa",
        "colab": {
          "base_uri": "https://localhost:8080/",
          "height": 275
        }
      },
      "source": [
        "train.describe(include=['O'])"
      ],
      "execution_count": 9,
      "outputs": [
        {
          "output_type": "execute_result",
          "data": {
            "text/html": [
              "<div>\n",
              "<style scoped>\n",
              "    .dataframe tbody tr th:only-of-type {\n",
              "        vertical-align: middle;\n",
              "    }\n",
              "\n",
              "    .dataframe tbody tr th {\n",
              "        vertical-align: top;\n",
              "    }\n",
              "\n",
              "    .dataframe thead th {\n",
              "        text-align: right;\n",
              "    }\n",
              "</style>\n",
              "<table border=\"1\" class=\"dataframe\">\n",
              "  <thead>\n",
              "    <tr style=\"text-align: right;\">\n",
              "      <th></th>\n",
              "      <th>belongs_to_collection</th>\n",
              "      <th>genres</th>\n",
              "      <th>homepage</th>\n",
              "      <th>imdb_id</th>\n",
              "      <th>original_language</th>\n",
              "      <th>original_title</th>\n",
              "      <th>overview</th>\n",
              "      <th>poster_path</th>\n",
              "      <th>production_companies</th>\n",
              "      <th>production_countries</th>\n",
              "      <th>release_date</th>\n",
              "      <th>spoken_languages</th>\n",
              "      <th>status</th>\n",
              "      <th>tagline</th>\n",
              "      <th>title</th>\n",
              "      <th>Keywords</th>\n",
              "      <th>cast</th>\n",
              "      <th>crew</th>\n",
              "    </tr>\n",
              "  </thead>\n",
              "  <tbody>\n",
              "    <tr>\n",
              "      <th>count</th>\n",
              "      <td>604</td>\n",
              "      <td>2993</td>\n",
              "      <td>946</td>\n",
              "      <td>3000</td>\n",
              "      <td>3000</td>\n",
              "      <td>3000</td>\n",
              "      <td>2992</td>\n",
              "      <td>2999</td>\n",
              "      <td>2844</td>\n",
              "      <td>2945</td>\n",
              "      <td>3000</td>\n",
              "      <td>2980</td>\n",
              "      <td>3000</td>\n",
              "      <td>2403</td>\n",
              "      <td>3000</td>\n",
              "      <td>2724</td>\n",
              "      <td>2987</td>\n",
              "      <td>2984</td>\n",
              "    </tr>\n",
              "    <tr>\n",
              "      <th>unique</th>\n",
              "      <td>422</td>\n",
              "      <td>872</td>\n",
              "      <td>941</td>\n",
              "      <td>3000</td>\n",
              "      <td>36</td>\n",
              "      <td>2975</td>\n",
              "      <td>2992</td>\n",
              "      <td>2999</td>\n",
              "      <td>2383</td>\n",
              "      <td>321</td>\n",
              "      <td>2398</td>\n",
              "      <td>401</td>\n",
              "      <td>2</td>\n",
              "      <td>2400</td>\n",
              "      <td>2969</td>\n",
              "      <td>2648</td>\n",
              "      <td>2975</td>\n",
              "      <td>2984</td>\n",
              "    </tr>\n",
              "    <tr>\n",
              "      <th>top</th>\n",
              "      <td>[{'id': 645, 'name': 'James Bond Collection', ...</td>\n",
              "      <td>[{'id': 18, 'name': 'Drama'}]</td>\n",
              "      <td>http://www.transformersmovie.com/</td>\n",
              "      <td>tt0318462</td>\n",
              "      <td>en</td>\n",
              "      <td>King Kong</td>\n",
              "      <td>Cale Bryant is determined to win a coveted spo...</td>\n",
              "      <td>/vllvystwQjmXzy5OvBKnGl1JREF.jpg</td>\n",
              "      <td>[{'name': 'Paramount Pictures', 'id': 4}]</td>\n",
              "      <td>[{'iso_3166_1': 'US', 'name': 'United States o...</td>\n",
              "      <td>9/10/10</td>\n",
              "      <td>[{'iso_639_1': 'en', 'name': 'English'}]</td>\n",
              "      <td>Released</td>\n",
              "      <td>Based on a true story.</td>\n",
              "      <td>The Magnificent Seven</td>\n",
              "      <td>[{'id': 10183, 'name': 'independent film'}]</td>\n",
              "      <td>[]</td>\n",
              "      <td>[{'credit_id': '52fe4471c3a36847f80965f3', 'de...</td>\n",
              "    </tr>\n",
              "    <tr>\n",
              "      <th>freq</th>\n",
              "      <td>16</td>\n",
              "      <td>266</td>\n",
              "      <td>4</td>\n",
              "      <td>1</td>\n",
              "      <td>2575</td>\n",
              "      <td>2</td>\n",
              "      <td>1</td>\n",
              "      <td>1</td>\n",
              "      <td>51</td>\n",
              "      <td>1752</td>\n",
              "      <td>5</td>\n",
              "      <td>1817</td>\n",
              "      <td>2996</td>\n",
              "      <td>3</td>\n",
              "      <td>2</td>\n",
              "      <td>27</td>\n",
              "      <td>13</td>\n",
              "      <td>1</td>\n",
              "    </tr>\n",
              "  </tbody>\n",
              "</table>\n",
              "</div>"
            ],
            "text/plain": [
              "                                    belongs_to_collection  ...                                               crew\n",
              "count                                                 604  ...                                               2984\n",
              "unique                                                422  ...                                               2984\n",
              "top     [{'id': 645, 'name': 'James Bond Collection', ...  ...  [{'credit_id': '52fe4471c3a36847f80965f3', 'de...\n",
              "freq                                                   16  ...                                                  1\n",
              "\n",
              "[4 rows x 18 columns]"
            ]
          },
          "metadata": {
            "tags": []
          },
          "execution_count": 9
        }
      ]
    },
    {
      "cell_type": "code",
      "metadata": {
        "id": "GHjfKKdrU0Mg",
        "colab_type": "code",
        "outputId": "220e8d36-3946-4f89-ebc7-cbf2e7db40c0",
        "colab": {
          "base_uri": "https://localhost:8080/",
          "height": 512
        }
      },
      "source": [
        "import seaborn as sns\n",
        "import matplotlib.pyplot as plt\n",
        "\n",
        "plt.figure(figsize=(16, 8))\n",
        "plt.subplot(1, 2, 1)\n",
        "plt.scatter(train['popularity'], train['revenue'])\n",
        "plt.title('Revenue vs popularity');\n",
        "plt.subplot(1, 2, 2)\n",
        "plt.hist(train['budget']);\n",
        "plt.title('Distribution of budget');"
      ],
      "execution_count": 10,
      "outputs": [
        {
          "output_type": "display_data",
          "data": {
            "image/png": "[encoded data removed]",
            "text/plain": [
              "<Figure size 1152x576 with 2 Axes>"
            ]
          },
          "metadata": {
            "tags": []
          }
        }
      ]
    },
    {
      "cell_type": "code",
      "metadata": {
        "id": "yYOjjly2b3KB",
        "colab_type": "code",
        "outputId": "6e8a4c0d-bc10-45a4-ca62-932170d4d227",
        "colab": {
          "base_uri": "https://localhost:8080/",
          "height": 512
        }
      },
      "source": [
        "plt.figure(figsize=(16, 8))\n",
        "plt.subplot(1, 2, 1)\n",
        "plt.scatter(train['budget'], train['revenue'])\n",
        "plt.title('Revenue vs budget');\n",
        "plt.subplot(1, 2, 2)\n",
        "plt.scatter(np.log1p(train['budget']), np.log1p(train['revenue']))\n",
        "plt.title('Log Revenue vs log budget');"
      ],
      "execution_count": 11,
      "outputs": [
        {
          "output_type": "display_data",
          "data": {
            "image/png": "[encoded data removed]",
            "text/plain": [
              "<Figure size 1152x576 with 2 Axes>"
            ]
          },
          "metadata": {
            "tags": []
          }
        }
      ]
    },
    {
      "cell_type": "code",
      "metadata": {
        "id": "BNw5xhgSuDH9",
        "colab_type": "code",
        "outputId": "9358deab-a254-47fb-82e7-186066ed021b",
        "colab": {
          "base_uri": "https://localhost:8080/",
          "height": 390
        }
      },
      "source": [
        "plt.figure(figsize=(20, 6))\n",
        "plt.subplot(1, 3, 1)\n",
        "plt.hist(train['runtime'].fillna(0) / 60, bins=40);\n",
        "plt.title('Distribution of length of film in hours');\n",
        "plt.subplot(1, 3, 2)\n",
        "plt.scatter(train['runtime'].fillna(0), train['revenue'])\n",
        "plt.title('runtime vs revenue');\n",
        "plt.subplot(1, 3, 3)\n",
        "plt.scatter(train['runtime'].fillna(0), train['popularity'])\n",
        "plt.title('runtime vs popularity');"
      ],
      "execution_count": 12,
      "outputs": [
        {
          "output_type": "display_data",
          "data": {
            "image/png": "[encoded data removed]",
            "text/plain": [
              "<Figure size 1440x432 with 3 Axes>"
            ]
          },
          "metadata": {
            "tags": []
          }
        }
      ]
    },
    {
      "cell_type": "code",
      "metadata": {
        "id": "8tTrOgujAIuJ",
        "colab_type": "code",
        "outputId": "9f90e51b-2ff9-4fb0-8a9a-be72bd6c3325",
        "colab": {
          "base_uri": "https://localhost:8080/",
          "height": 635
        }
      },
      "source": [
        "fig, ax = plt.subplots(figsize=(10, 10))\n",
        "ax.tick_params(axis='both', labelsize=12)\n",
        "plt.title('Genres and Revenue', fontsize=20)\n",
        "plt.xlabel('revenue', fontsize=16)\n",
        "plt.ylabel('genre', fontsize=16)\n",
        "sns.boxplot(ax=ax, x=train['revenue'], y=train['original_language'],showfliers=False)\n",
        "plt.show()"
      ],
      "execution_count": 13,
      "outputs": [
        {
          "output_type": "display_data",
          "data": {
            "image/png": "[encoded data removed]",
            "text/plain": [
              "<Figure size 720x720 with 1 Axes>"
            ]
          },
          "metadata": {
            "tags": []
          }
        }
      ]
    },
    {
      "cell_type": "markdown",
      "metadata": {
        "id": "wnpcdyjqqXCa",
        "colab_type": "text"
      },
      "source": [
        "## Feaature Engineering"
      ]
    },
    {
      "cell_type": "code",
      "metadata": {
        "id": "Z2l0tVslyTGR",
        "colab_type": "code",
        "colab": {}
      },
      "source": [
        "def proc_json(string, key):\n",
        "    try:\n",
        "        data = eval(string)\n",
        "        return \",\".join([d[key] for d in data])\n",
        "    except:\n",
        "        return ''\n",
        "\n",
        "def proc_json_len(string):\n",
        "    try:\n",
        "        data = eval(string)\n",
        "        return len(data)\n",
        "    except:\n",
        "        return 0\n",
        "\n",
        "    \n",
        "def feature_engineering(df):\n",
        "    # fill out missing values\n",
        "    df.runtime.fillna(0, inplace=True)\n",
        "    df.status.fillna('Released', inplace=True)\n",
        "    df.release_date.fillna(df.release_date.mode()[0], inplace=True)\n",
        "\n",
        "    # create count features\n",
        "    df['count_genre'] = df.genres.apply(proc_json_len)\n",
        "    df['count_country'] = df.production_countries.apply(proc_json_len)\n",
        "    df['count_company'] = df.production_companies.apply(proc_json_len)\n",
        "    df['count_splang'] = df.spoken_languages.apply(proc_json_len)\n",
        "    df['count_cast'] = df.cast.apply(proc_json_len)\n",
        "    df['count_crew'] = df.crew.apply(proc_json_len)\n",
        "    df['count_staff'] = df.count_cast + df.count_crew\n",
        "    df['count_keyword'] = df.Keywords.apply(proc_json_len)\n",
        "    \n",
        "    # convert json features\n",
        "    df.belongs_to_collection = df.belongs_to_collection.apply(lambda x: proc_json(x, 'name'))\n",
        "    df.genres = df.genres.apply(lambda x: proc_json(x, 'name'))\n",
        "    df.production_companies = df.production_companies.apply(lambda x: proc_json(x, 'name'))\n",
        "    df.production_countries = df.production_countries.apply(lambda x: proc_json(x, 'iso_3166_1'))\n",
        "    df.spoken_languages = df.spoken_languages.apply(lambda x: proc_json(x, 'iso_639_1'))\n",
        "    df.Keywords = df.Keywords.apply(lambda x: proc_json(x, 'name'))\n",
        "    \n",
        "    # create length of text features\n",
        "    df['len_title'] = df.title.str.len()\n",
        "    df.len_title.fillna(0, inplace=True)\n",
        "    df['len_overview'] = df.overview.str.len()\n",
        "    df.len_overview.fillna(0, inplace=True)\n",
        "    df['len_tagline'] = df.tagline.str.len()\n",
        "    df.len_tagline.fillna(0, inplace=True)\n",
        "    \n",
        "    # create date related features\n",
        "    df.release_date = pd.to_datetime(df.release_date)\n",
        "    df['release_year'] = df.release_date.dt.year\n",
        "    df['release_year'] = df.release_year.apply(lambda x: x-100 if x > 2020 else x)\n",
        "    df['release_month'] = df.release_date.dt.month\n",
        "    df['release_wday'] = df.release_date.dt.dayofweek\n",
        "\n",
        "    # create boolean features\n",
        "    df['in_collection'] = (df.belongs_to_collection != '').astype('uint8')\n",
        "    df['us_country'] = df.production_countries.str.contains('US').astype('uint8')\n",
        "    df['en_lang'] = (df.original_language == 'en').astype('uint8')\n",
        "    df['has_hompage'] = df.homepage.apply(lambda x: 1 if pd.isnull(x) == False else 0)\n",
        "\n",
        "    # log money values\n",
        "    if 'revenue' in df.columns:\n",
        "        df.revenue = np.log1p(df.revenue)\n",
        "    df.budget = np.log1p(df.budget)\n",
        "    df.popularity = np.log1p(df.popularity)\n",
        "    \n",
        "    return df"
      ],
      "execution_count": 0,
      "outputs": []
    },
    {
      "cell_type": "code",
      "metadata": {
        "id": "j_FHfAGDyhH3",
        "colab_type": "code",
        "colab": {}
      },
      "source": [
        "train = feature_engineering(train)\n",
        "test = feature_engineering(test)"
      ],
      "execution_count": 0,
      "outputs": []
    },
    {
      "cell_type": "markdown",
      "metadata": {
        "id": "Mqzp2BQLqROf",
        "colab_type": "text"
      },
      "source": [
        "## EDA after feature engineering"
      ]
    },
    {
      "cell_type": "code",
      "metadata": {
        "id": "giHPS3zj5jOT",
        "colab_type": "code",
        "outputId": "27983a71-fe41-48d4-cae6-a7788be092d1",
        "colab": {
          "base_uri": "https://localhost:8080/",
          "height": 612
        }
      },
      "source": [
        "train.head()"
      ],
      "execution_count": 16,
      "outputs": [
        {
          "output_type": "execute_result",
          "data": {
            "text/html": [
              "<div>\n",
              "<style scoped>\n",
              "    .dataframe tbody tr th:only-of-type {\n",
              "        vertical-align: middle;\n",
              "    }\n",
              "\n",
              "    .dataframe tbody tr th {\n",
              "        vertical-align: top;\n",
              "    }\n",
              "\n",
              "    .dataframe thead th {\n",
              "        text-align: right;\n",
              "    }\n",
              "</style>\n",
              "<table border=\"1\" class=\"dataframe\">\n",
              "  <thead>\n",
              "    <tr style=\"text-align: right;\">\n",
              "      <th></th>\n",
              "      <th>id</th>\n",
              "      <th>belongs_to_collection</th>\n",
              "      <th>budget</th>\n",
              "      <th>genres</th>\n",
              "      <th>homepage</th>\n",
              "      <th>imdb_id</th>\n",
              "      <th>original_language</th>\n",
              "      <th>original_title</th>\n",
              "      <th>overview</th>\n",
              "      <th>popularity</th>\n",
              "      <th>poster_path</th>\n",
              "      <th>production_companies</th>\n",
              "      <th>production_countries</th>\n",
              "      <th>release_date</th>\n",
              "      <th>runtime</th>\n",
              "      <th>spoken_languages</th>\n",
              "      <th>status</th>\n",
              "      <th>tagline</th>\n",
              "      <th>title</th>\n",
              "      <th>Keywords</th>\n",
              "      <th>cast</th>\n",
              "      <th>crew</th>\n",
              "      <th>revenue</th>\n",
              "      <th>popularity2</th>\n",
              "      <th>rating</th>\n",
              "      <th>totalVotes</th>\n",
              "      <th>count_genre</th>\n",
              "      <th>count_country</th>\n",
              "      <th>count_company</th>\n",
              "      <th>count_splang</th>\n",
              "      <th>count_cast</th>\n",
              "      <th>count_crew</th>\n",
              "      <th>count_staff</th>\n",
              "      <th>count_keyword</th>\n",
              "      <th>len_title</th>\n",
              "      <th>len_overview</th>\n",
              "      <th>len_tagline</th>\n",
              "      <th>release_year</th>\n",
              "      <th>release_month</th>\n",
              "      <th>release_wday</th>\n",
              "      <th>in_collection</th>\n",
              "      <th>us_country</th>\n",
              "      <th>en_lang</th>\n",
              "      <th>has_hompage</th>\n",
              "    </tr>\n",
              "  </thead>\n",
              "  <tbody>\n",
              "    <tr>\n",
              "      <th>0</th>\n",
              "      <td>1</td>\n",
              "      <td>Hot Tub Time Machine Collection</td>\n",
              "      <td>16.454568</td>\n",
              "      <td>Comedy</td>\n",
              "      <td>NaN</td>\n",
              "      <td>tt2637294</td>\n",
              "      <td>en</td>\n",
              "      <td>Hot Tub Time Machine 2</td>\n",
              "      <td>When Lou, who has become the \"father of the In...</td>\n",
              "      <td>2.024905</td>\n",
              "      <td>/tQtWuwvMf0hCc2QR2tkolwl7c3c.jpg</td>\n",
              "      <td>Paramount Pictures,United Artists,Metro-Goldwy...</td>\n",
              "      <td>US</td>\n",
              "      <td>2015-02-20</td>\n",
              "      <td>93.0</td>\n",
              "      <td>en</td>\n",
              "      <td>Released</td>\n",
              "      <td>The Laws of Space and Time are About to be Vio...</td>\n",
              "      <td>Hot Tub Time Machine 2</td>\n",
              "      <td>time travel,sequel,hot tub,duringcreditsstinger</td>\n",
              "      <td>[{'cast_id': 4, 'character': 'Lou', 'credit_id...</td>\n",
              "      <td>[{'credit_id': '59ac067c92514107af02c8c8', 'de...</td>\n",
              "      <td>16.326300</td>\n",
              "      <td>10.400</td>\n",
              "      <td>5.0</td>\n",
              "      <td>482.0</td>\n",
              "      <td>1</td>\n",
              "      <td>1</td>\n",
              "      <td>3</td>\n",
              "      <td>1</td>\n",
              "      <td>24</td>\n",
              "      <td>72</td>\n",
              "      <td>96</td>\n",
              "      <td>4</td>\n",
              "      <td>22</td>\n",
              "      <td>155.0</td>\n",
              "      <td>52.0</td>\n",
              "      <td>2015</td>\n",
              "      <td>2</td>\n",
              "      <td>4</td>\n",
              "      <td>1</td>\n",
              "      <td>1</td>\n",
              "      <td>1</td>\n",
              "      <td>0</td>\n",
              "    </tr>\n",
              "    <tr>\n",
              "      <th>1</th>\n",
              "      <td>2</td>\n",
              "      <td>The Princess Diaries Collection</td>\n",
              "      <td>17.504390</td>\n",
              "      <td>Comedy,Drama,Family,Romance</td>\n",
              "      <td>NaN</td>\n",
              "      <td>tt0368933</td>\n",
              "      <td>en</td>\n",
              "      <td>The Princess Diaries 2: Royal Engagement</td>\n",
              "      <td>Mia Thermopolis is now a college graduate and ...</td>\n",
              "      <td>2.224504</td>\n",
              "      <td>/w9Z7A0GHEhIp7etpj0vyKOeU1Wx.jpg</td>\n",
              "      <td>Walt Disney Pictures</td>\n",
              "      <td>US</td>\n",
              "      <td>2004-08-06</td>\n",
              "      <td>113.0</td>\n",
              "      <td>en</td>\n",
              "      <td>Released</td>\n",
              "      <td>It can take a lifetime to find true love; she'...</td>\n",
              "      <td>The Princess Diaries 2: Royal Engagement</td>\n",
              "      <td>coronation,duty,marriage,falling in love</td>\n",
              "      <td>[{'cast_id': 1, 'character': 'Mia Thermopolis'...</td>\n",
              "      <td>[{'credit_id': '52fe43fe9251416c7502563d', 'de...</td>\n",
              "      <td>18.370959</td>\n",
              "      <td>15.229</td>\n",
              "      <td>6.4</td>\n",
              "      <td>1528.0</td>\n",
              "      <td>4</td>\n",
              "      <td>1</td>\n",
              "      <td>1</td>\n",
              "      <td>1</td>\n",
              "      <td>20</td>\n",
              "      <td>9</td>\n",
              "      <td>29</td>\n",
              "      <td>4</td>\n",
              "      <td>40</td>\n",
              "      <td>393.0</td>\n",
              "      <td>60.0</td>\n",
              "      <td>2004</td>\n",
              "      <td>8</td>\n",
              "      <td>4</td>\n",
              "      <td>1</td>\n",
              "      <td>1</td>\n",
              "      <td>1</td>\n",
              "      <td>0</td>\n",
              "    </tr>\n",
              "    <tr>\n",
              "      <th>2</th>\n",
              "      <td>3</td>\n",
              "      <td></td>\n",
              "      <td>15.009433</td>\n",
              "      <td>Drama</td>\n",
              "      <td>http://sonyclassics.com/whiplash/</td>\n",
              "      <td>tt2582802</td>\n",
              "      <td>en</td>\n",
              "      <td>Whiplash</td>\n",
              "      <td>Under the direction of a ruthless instructor, ...</td>\n",
              "      <td>4.178992</td>\n",
              "      <td>/lIv1QinFqz4dlp5U4lQ6HaiskOZ.jpg</td>\n",
              "      <td>Bold Films,Blumhouse Productions,Right of Way ...</td>\n",
              "      <td>US</td>\n",
              "      <td>2014-10-10</td>\n",
              "      <td>105.0</td>\n",
              "      <td>en</td>\n",
              "      <td>Released</td>\n",
              "      <td>The road to greatness can take you to the edge.</td>\n",
              "      <td>Whiplash</td>\n",
              "      <td>jazz,obsession,conservatory,music teacher,new ...</td>\n",
              "      <td>[{'cast_id': 5, 'character': 'Andrew Neimann',...</td>\n",
              "      <td>[{'credit_id': '54d5356ec3a3683ba0000039', 'de...</td>\n",
              "      <td>16.387512</td>\n",
              "      <td>26.082</td>\n",
              "      <td>8.4</td>\n",
              "      <td>7314.0</td>\n",
              "      <td>1</td>\n",
              "      <td>1</td>\n",
              "      <td>3</td>\n",
              "      <td>1</td>\n",
              "      <td>51</td>\n",
              "      <td>64</td>\n",
              "      <td>115</td>\n",
              "      <td>12</td>\n",
              "      <td>8</td>\n",
              "      <td>130.0</td>\n",
              "      <td>47.0</td>\n",
              "      <td>2014</td>\n",
              "      <td>10</td>\n",
              "      <td>4</td>\n",
              "      <td>0</td>\n",
              "      <td>1</td>\n",
              "      <td>1</td>\n",
              "      <td>1</td>\n",
              "    </tr>\n",
              "    <tr>\n",
              "      <th>3</th>\n",
              "      <td>4</td>\n",
              "      <td></td>\n",
              "      <td>13.997833</td>\n",
              "      <td>Thriller,Drama</td>\n",
              "      <td>http://kahaanithefilm.com/</td>\n",
              "      <td>tt1821480</td>\n",
              "      <td>hi</td>\n",
              "      <td>Kahaani</td>\n",
              "      <td>Vidya Bagchi (Vidya Balan) arrives in Kolkata ...</td>\n",
              "      <td>1.429099</td>\n",
              "      <td>/aTXRaPrWSinhcmCrcfJK17urp3F.jpg</td>\n",
              "      <td></td>\n",
              "      <td>IN</td>\n",
              "      <td>2012-03-09</td>\n",
              "      <td>122.0</td>\n",
              "      <td>en,hi</td>\n",
              "      <td>Released</td>\n",
              "      <td>NaN</td>\n",
              "      <td>Kahaani</td>\n",
              "      <td>mystery,bollywood,police corruption,crime,indi...</td>\n",
              "      <td>[{'cast_id': 1, 'character': 'Vidya Bagchi', '...</td>\n",
              "      <td>[{'credit_id': '52fe48779251416c9108d6eb', 'de...</td>\n",
              "      <td>16.588099</td>\n",
              "      <td>5.531</td>\n",
              "      <td>7.5</td>\n",
              "      <td>115.0</td>\n",
              "      <td>2</td>\n",
              "      <td>1</td>\n",
              "      <td>0</td>\n",
              "      <td>2</td>\n",
              "      <td>7</td>\n",
              "      <td>3</td>\n",
              "      <td>10</td>\n",
              "      <td>7</td>\n",
              "      <td>7</td>\n",
              "      <td>581.0</td>\n",
              "      <td>0.0</td>\n",
              "      <td>2012</td>\n",
              "      <td>3</td>\n",
              "      <td>4</td>\n",
              "      <td>0</td>\n",
              "      <td>0</td>\n",
              "      <td>0</td>\n",
              "      <td>1</td>\n",
              "    </tr>\n",
              "    <tr>\n",
              "      <th>4</th>\n",
              "      <td>5</td>\n",
              "      <td></td>\n",
              "      <td>0.000000</td>\n",
              "      <td>Action,Thriller</td>\n",
              "      <td>NaN</td>\n",
              "      <td>tt1380152</td>\n",
              "      <td>ko</td>\n",
              "      <td>마린보이</td>\n",
              "      <td>Marine Boy is the story of a former national s...</td>\n",
              "      <td>0.764570</td>\n",
              "      <td>/m22s7zvkVFDU9ir56PiiqIEWFdT.jpg</td>\n",
              "      <td></td>\n",
              "      <td>KR</td>\n",
              "      <td>2009-02-05</td>\n",
              "      <td>118.0</td>\n",
              "      <td>ko</td>\n",
              "      <td>Released</td>\n",
              "      <td>NaN</td>\n",
              "      <td>Marine Boy</td>\n",
              "      <td></td>\n",
              "      <td>[{'cast_id': 3, 'character': 'Chun-soo', 'cred...</td>\n",
              "      <td>[{'credit_id': '52fe464b9251416c75073b43', 'de...</td>\n",
              "      <td>15.182615</td>\n",
              "      <td>NaN</td>\n",
              "      <td>NaN</td>\n",
              "      <td>NaN</td>\n",
              "      <td>2</td>\n",
              "      <td>1</td>\n",
              "      <td>0</td>\n",
              "      <td>1</td>\n",
              "      <td>4</td>\n",
              "      <td>2</td>\n",
              "      <td>6</td>\n",
              "      <td>0</td>\n",
              "      <td>10</td>\n",
              "      <td>168.0</td>\n",
              "      <td>0.0</td>\n",
              "      <td>2009</td>\n",
              "      <td>2</td>\n",
              "      <td>3</td>\n",
              "      <td>0</td>\n",
              "      <td>0</td>\n",
              "      <td>0</td>\n",
              "      <td>0</td>\n",
              "    </tr>\n",
              "  </tbody>\n",
              "</table>\n",
              "</div>"
            ],
            "text/plain": [
              "   id            belongs_to_collection  ...  en_lang has_hompage\n",
              "0   1  Hot Tub Time Machine Collection  ...        1           0\n",
              "1   2  The Princess Diaries Collection  ...        1           0\n",
              "2   3                                   ...        1           1\n",
              "3   4                                   ...        0           1\n",
              "4   5                                   ...        0           0\n",
              "\n",
              "[5 rows x 44 columns]"
            ]
          },
          "metadata": {
            "tags": []
          },
          "execution_count": 16
        }
      ]
    },
    {
      "cell_type": "code",
      "metadata": {
        "id": "2s5-VJ_Wdq6J",
        "colab_type": "code",
        "outputId": "6a3e93e7-7ec3-441b-9347-ce2408a7d1bf",
        "colab": {
          "base_uri": "https://localhost:8080/",
          "height": 270
        }
      },
      "source": [
        "from wordcloud import WordCloud, STOPWORDS, ImageColorGenerator\n",
        "\n",
        "wordcloud_genres = WordCloud(max_font_size=70, max_words=100, background_color=\"white\", collocations=False).generate(train['genres'].to_string())\n",
        "plt.figure(figsize = (8, 6))\n",
        "plt.imshow(wordcloud_genres, interpolation=\"bilinear\")\n",
        "plt.title(\"Top Genres\")\n",
        "plt.axis(\"off\")\n",
        "plt.show()"
      ],
      "execution_count": 17,
      "outputs": [
        {
          "output_type": "display_data",
          "data": {
            "image/png": "[encoded data removed]",
            "text/plain": [
              "<Figure size 576x432 with 1 Axes>"
            ]
          },
          "metadata": {
            "tags": []
          }
        }
      ]
    },
    {
      "cell_type": "code",
      "metadata": {
        "id": "N1vBPHAFeqp2",
        "colab_type": "code",
        "outputId": "cfffc3af-0752-4319-b743-07daab8707dc",
        "colab": {
          "base_uri": "https://localhost:8080/",
          "height": 214
        }
      },
      "source": [
        "wordcloud_lan = WordCloud(max_font_size=200, max_words=100, background_color=\"white\").generate(train['original_language'].to_string())\n",
        "plt.figure(figsize = (6, 5))\n",
        "plt.imshow(wordcloud_lan, interpolation=\"bilinear\")\n",
        "plt.title(\"Top Languages\")\n",
        "plt.axis(\"off\")\n",
        "plt.show()"
      ],
      "execution_count": 18,
      "outputs": [
        {
          "output_type": "display_data",
          "data": {
            "image/png": "[encoded data removed]",
            "text/plain": [
              "<Figure size 432x360 with 1 Axes>"
            ]
          },
          "metadata": {
            "tags": []
          }
        }
      ]
    },
    {
      "cell_type": "code",
      "metadata": {
        "id": "Z3T6v1vsXOkF",
        "colab_type": "code",
        "outputId": "2f7eb840-03a7-4464-fa8d-a72efe1db010",
        "colab": {
          "base_uri": "https://localhost:8080/",
          "height": 497
        }
      },
      "source": [
        "year_plot = train[['revenue', 'release_year']]\n",
        "money_Y = year_plot.groupby('release_year')['revenue'].sum()\n",
        "\n",
        "money_Y.plot(figsize=(15,8))\n",
        "plt.xlabel(\"Year of release\")\n",
        "plt.ylabel(\"revenue\")\n",
        "plt.xticks(np.arange(1960,2015,5))\n",
        "\n",
        "plt.show()"
      ],
      "execution_count": 19,
      "outputs": [
        {
          "output_type": "display_data",
          "data": {
            "image/png": "[encoded data removed]",
            "text/plain": [
              "<Figure size 1080x576 with 1 Axes>"
            ]
          },
          "metadata": {
            "tags": []
          }
        }
      ]
    },
    {
      "cell_type": "code",
      "metadata": {
        "id": "Eu9CsqT8X-aT",
        "colab_type": "code",
        "outputId": "f258575b-5feb-4750-ab54-efe987843384",
        "colab": {
          "base_uri": "https://localhost:8080/",
          "height": 497
        }
      },
      "source": [
        "month_plot = train[['revenue', 'release_month']]\n",
        "money_M = month_plot.groupby('release_month')['revenue'].mean()\n",
        "\n",
        "money_M.plot(figsize=(15,8))\n",
        "plt.xlabel(\"Released Month\")\n",
        "plt.ylabel(\"Revenue\")\n",
        "\n",
        "plt.show()"
      ],
      "execution_count": 20,
      "outputs": [
        {
          "output_type": "display_data",
          "data": {
            "image/png": "[encoded data removed]",
            "text/plain": [
              "<Figure size 1080x576 with 1 Axes>"
            ]
          },
          "metadata": {
            "tags": []
          }
        }
      ]
    },
    {
      "cell_type": "code",
      "metadata": {
        "id": "MvY-AaEya8OD",
        "colab_type": "code",
        "outputId": "dff63bca-fb3c-4a97-c139-34b0473d9930",
        "colab": {
          "base_uri": "https://localhost:8080/",
          "height": 501
        }
      },
      "source": [
        "wday_plot = train[['revenue', 'release_wday']]\n",
        "money_W = wday_plot.groupby('release_wday')['revenue'].mean()\n",
        "\n",
        "money_W.plot(figsize=(15,8))\n",
        "plt.xlabel(\"Released DaysofWeek\")\n",
        "plt.ylabel(\"Revenue\")\n",
        "\n",
        "plt.show()"
      ],
      "execution_count": 21,
      "outputs": [
        {
          "output_type": "display_data",
          "data": {
            "image/png": "[encoded data removed]",
            "text/plain": [
              "<Figure size 1080x576 with 1 Axes>"
            ]
          },
          "metadata": {
            "tags": []
          }
        }
      ]
    },
    {
      "cell_type": "code",
      "metadata": {
        "id": "pcMQuL_wXS7z",
        "colab_type": "code",
        "outputId": "25821e87-21af-4645-ba2c-e3552c21dbac",
        "colab": {
          "base_uri": "https://localhost:8080/",
          "height": 385
        }
      },
      "source": [
        "sns.catplot(x='release_wday', y='revenue', data=train);\n",
        "plt.title('Revenue on different days of week of release');"
      ],
      "execution_count": 22,
      "outputs": [
        {
          "output_type": "display_data",
          "data": {
            "image/png": "[encoded data removed]",
            "text/plain": [
              "<Figure size 360x360 with 1 Axes>"
            ]
          },
          "metadata": {
            "tags": []
          }
        }
      ]
    },
    {
      "cell_type": "code",
      "metadata": {
        "id": "EBfp0wlzaAox",
        "colab_type": "code",
        "outputId": "151f36f3-b0c8-431e-90e4-779a893e5dd8",
        "colab": {
          "base_uri": "https://localhost:8080/",
          "height": 499
        }
      },
      "source": [
        "plt.figure(figsize=(16, 8))\n",
        "plt.subplot(1, 2, 1)\n",
        "plt.scatter(train['popularity'], np.expm1(train['revenue'])+1)\n",
        "plt.title('Revenue vs Popularity');\n",
        "plt.subplot(1, 2, 2)\n",
        "plt.hist(train['budget']);\n",
        "plt.title('Distribution of Budget');"
      ],
      "execution_count": 23,
      "outputs": [
        {
          "output_type": "display_data",
          "data": {
            "image/png": "[encoded data removed]",
            "text/plain": [
              "<Figure size 1152x576 with 2 Axes>"
            ]
          },
          "metadata": {
            "tags": []
          }
        }
      ]
    },
    {
      "cell_type": "code",
      "metadata": {
        "id": "oigjRpL7hRtS",
        "colab_type": "code",
        "outputId": "a81ae1ae-2d6e-4768-f636-f51581dd2417",
        "colab": {
          "base_uri": "https://localhost:8080/",
          "height": 442
        }
      },
      "source": [
        "cor_features = train[['budget', 'rating', 'totalVotes', 'popularity', 'runtime',\n",
        "            'release_year', 'release_month', 'release_wday','revenue']]\n",
        "f,ax = plt.subplots(figsize=(8, 6))\n",
        "sns.heatmap(cor_features.corr(), annot=True, linewidths=0, fmt= '.3f',ax=ax)\n",
        "plt.show()"
      ],
      "execution_count": 24,
      "outputs": [
        {
          "output_type": "display_data",
          "data": {
            "image/png": "[encoded data removed]",
            "text/plain": [
              "<Figure size 576x432 with 2 Axes>"
            ]
          },
          "metadata": {
            "tags": []
          }
        }
      ]
    },
    {
      "cell_type": "markdown",
      "metadata": {
        "id": "jheuYpYwAVX3",
        "colab_type": "text"
      },
      "source": [
        "## Feature Generation"
      ]
    },
    {
      "cell_type": "code",
      "metadata": {
        "id": "1_-nMNPE_RLM",
        "colab_type": "code",
        "colab": {}
      },
      "source": [
        "def top_cols_interaction(df):\n",
        "    df['budget_to_popularity'] = df['budget'] / df['popularity']\n",
        "    df['rating_to_runtime'] = df['rating'] / df['runtime']\n",
        "    df['budget_to_totalVotes'] = df['budget'] / df['totalVotes']\n",
        "    df['totalVotes_to_popularity'] = df['totalVotes'] / df['popularity']\n",
        "    df['popularity_release_year'] = df['popularity'] / df['release_year']\n",
        "    df['budget_release_year'] = df['budget'] / df['release_year']\n",
        "    df['year_to_budget'] = df['release_year'] / df['budget']\n",
        "\n",
        "    return df"
      ],
      "execution_count": 0,
      "outputs": []
    },
    {
      "cell_type": "code",
      "metadata": {
        "id": "bQIjFa81ANst",
        "colab_type": "code",
        "colab": {}
      },
      "source": [
        "train = top_cols_interaction(train)\n",
        "test = top_cols_interaction(test)\n",
        "train = train.replace([np.inf, -np.inf], 0).fillna(0)\n",
        "test = test.replace([np.inf, -np.inf], 0).fillna(0)"
      ],
      "execution_count": 0,
      "outputs": []
    },
    {
      "cell_type": "code",
      "metadata": {
        "id": "56regaPxAgpg",
        "colab_type": "code",
        "outputId": "fd8e9056-b94a-449d-b08a-15bef2f82aab",
        "colab": {
          "base_uri": "https://localhost:8080/",
          "height": 612
        }
      },
      "source": [
        "train.head()"
      ],
      "execution_count": 27,
      "outputs": [
        {
          "output_type": "execute_result",
          "data": {
            "text/html": [
              "<div>\n",
              "<style scoped>\n",
              "    .dataframe tbody tr th:only-of-type {\n",
              "        vertical-align: middle;\n",
              "    }\n",
              "\n",
              "    .dataframe tbody tr th {\n",
              "        vertical-align: top;\n",
              "    }\n",
              "\n",
              "    .dataframe thead th {\n",
              "        text-align: right;\n",
              "    }\n",
              "</style>\n",
              "<table border=\"1\" class=\"dataframe\">\n",
              "  <thead>\n",
              "    <tr style=\"text-align: right;\">\n",
              "      <th></th>\n",
              "      <th>id</th>\n",
              "      <th>belongs_to_collection</th>\n",
              "      <th>budget</th>\n",
              "      <th>genres</th>\n",
              "      <th>homepage</th>\n",
              "      <th>imdb_id</th>\n",
              "      <th>original_language</th>\n",
              "      <th>original_title</th>\n",
              "      <th>overview</th>\n",
              "      <th>popularity</th>\n",
              "      <th>poster_path</th>\n",
              "      <th>production_companies</th>\n",
              "      <th>production_countries</th>\n",
              "      <th>release_date</th>\n",
              "      <th>runtime</th>\n",
              "      <th>spoken_languages</th>\n",
              "      <th>status</th>\n",
              "      <th>tagline</th>\n",
              "      <th>title</th>\n",
              "      <th>Keywords</th>\n",
              "      <th>cast</th>\n",
              "      <th>crew</th>\n",
              "      <th>revenue</th>\n",
              "      <th>popularity2</th>\n",
              "      <th>rating</th>\n",
              "      <th>totalVotes</th>\n",
              "      <th>count_genre</th>\n",
              "      <th>count_country</th>\n",
              "      <th>count_company</th>\n",
              "      <th>count_splang</th>\n",
              "      <th>count_cast</th>\n",
              "      <th>count_crew</th>\n",
              "      <th>count_staff</th>\n",
              "      <th>count_keyword</th>\n",
              "      <th>len_title</th>\n",
              "      <th>len_overview</th>\n",
              "      <th>len_tagline</th>\n",
              "      <th>release_year</th>\n",
              "      <th>release_month</th>\n",
              "      <th>release_wday</th>\n",
              "      <th>in_collection</th>\n",
              "      <th>us_country</th>\n",
              "      <th>en_lang</th>\n",
              "      <th>has_hompage</th>\n",
              "      <th>budget_to_popularity</th>\n",
              "      <th>rating_to_runtime</th>\n",
              "      <th>budget_to_totalVotes</th>\n",
              "      <th>totalVotes_to_popularity</th>\n",
              "      <th>popularity_release_year</th>\n",
              "      <th>budget_release_year</th>\n",
              "      <th>year_to_budget</th>\n",
              "    </tr>\n",
              "  </thead>\n",
              "  <tbody>\n",
              "    <tr>\n",
              "      <th>0</th>\n",
              "      <td>1</td>\n",
              "      <td>Hot Tub Time Machine Collection</td>\n",
              "      <td>16.454568</td>\n",
              "      <td>Comedy</td>\n",
              "      <td>0</td>\n",
              "      <td>tt2637294</td>\n",
              "      <td>en</td>\n",
              "      <td>Hot Tub Time Machine 2</td>\n",
              "      <td>When Lou, who has become the \"father of the In...</td>\n",
              "      <td>2.024905</td>\n",
              "      <td>/tQtWuwvMf0hCc2QR2tkolwl7c3c.jpg</td>\n",
              "      <td>Paramount Pictures,United Artists,Metro-Goldwy...</td>\n",
              "      <td>US</td>\n",
              "      <td>2015-02-20</td>\n",
              "      <td>93.0</td>\n",
              "      <td>en</td>\n",
              "      <td>Released</td>\n",
              "      <td>The Laws of Space and Time are About to be Vio...</td>\n",
              "      <td>Hot Tub Time Machine 2</td>\n",
              "      <td>time travel,sequel,hot tub,duringcreditsstinger</td>\n",
              "      <td>[{'cast_id': 4, 'character': 'Lou', 'credit_id...</td>\n",
              "      <td>[{'credit_id': '59ac067c92514107af02c8c8', 'de...</td>\n",
              "      <td>16.326300</td>\n",
              "      <td>10.400</td>\n",
              "      <td>5.0</td>\n",
              "      <td>482.0</td>\n",
              "      <td>1</td>\n",
              "      <td>1</td>\n",
              "      <td>3</td>\n",
              "      <td>1</td>\n",
              "      <td>24</td>\n",
              "      <td>72</td>\n",
              "      <td>96</td>\n",
              "      <td>4</td>\n",
              "      <td>22</td>\n",
              "      <td>155.0</td>\n",
              "      <td>52.0</td>\n",
              "      <td>2015</td>\n",
              "      <td>2</td>\n",
              "      <td>4</td>\n",
              "      <td>1</td>\n",
              "      <td>1</td>\n",
              "      <td>1</td>\n",
              "      <td>0</td>\n",
              "      <td>8.126093</td>\n",
              "      <td>0.053763</td>\n",
              "      <td>0.034138</td>\n",
              "      <td>238.035831</td>\n",
              "      <td>0.001005</td>\n",
              "      <td>0.008166</td>\n",
              "      <td>122.458396</td>\n",
              "    </tr>\n",
              "    <tr>\n",
              "      <th>1</th>\n",
              "      <td>2</td>\n",
              "      <td>The Princess Diaries Collection</td>\n",
              "      <td>17.504390</td>\n",
              "      <td>Comedy,Drama,Family,Romance</td>\n",
              "      <td>0</td>\n",
              "      <td>tt0368933</td>\n",
              "      <td>en</td>\n",
              "      <td>The Princess Diaries 2: Royal Engagement</td>\n",
              "      <td>Mia Thermopolis is now a college graduate and ...</td>\n",
              "      <td>2.224504</td>\n",
              "      <td>/w9Z7A0GHEhIp7etpj0vyKOeU1Wx.jpg</td>\n",
              "      <td>Walt Disney Pictures</td>\n",
              "      <td>US</td>\n",
              "      <td>2004-08-06</td>\n",
              "      <td>113.0</td>\n",
              "      <td>en</td>\n",
              "      <td>Released</td>\n",
              "      <td>It can take a lifetime to find true love; she'...</td>\n",
              "      <td>The Princess Diaries 2: Royal Engagement</td>\n",
              "      <td>coronation,duty,marriage,falling in love</td>\n",
              "      <td>[{'cast_id': 1, 'character': 'Mia Thermopolis'...</td>\n",
              "      <td>[{'credit_id': '52fe43fe9251416c7502563d', 'de...</td>\n",
              "      <td>18.370959</td>\n",
              "      <td>15.229</td>\n",
              "      <td>6.4</td>\n",
              "      <td>1528.0</td>\n",
              "      <td>4</td>\n",
              "      <td>1</td>\n",
              "      <td>1</td>\n",
              "      <td>1</td>\n",
              "      <td>20</td>\n",
              "      <td>9</td>\n",
              "      <td>29</td>\n",
              "      <td>4</td>\n",
              "      <td>40</td>\n",
              "      <td>393.0</td>\n",
              "      <td>60.0</td>\n",
              "      <td>2004</td>\n",
              "      <td>8</td>\n",
              "      <td>4</td>\n",
              "      <td>1</td>\n",
              "      <td>1</td>\n",
              "      <td>1</td>\n",
              "      <td>0</td>\n",
              "      <td>7.868895</td>\n",
              "      <td>0.056637</td>\n",
              "      <td>0.011456</td>\n",
              "      <td>686.894670</td>\n",
              "      <td>0.001110</td>\n",
              "      <td>0.008735</td>\n",
              "      <td>114.485566</td>\n",
              "    </tr>\n",
              "    <tr>\n",
              "      <th>2</th>\n",
              "      <td>3</td>\n",
              "      <td></td>\n",
              "      <td>15.009433</td>\n",
              "      <td>Drama</td>\n",
              "      <td>http://sonyclassics.com/whiplash/</td>\n",
              "      <td>tt2582802</td>\n",
              "      <td>en</td>\n",
              "      <td>Whiplash</td>\n",
              "      <td>Under the direction of a ruthless instructor, ...</td>\n",
              "      <td>4.178992</td>\n",
              "      <td>/lIv1QinFqz4dlp5U4lQ6HaiskOZ.jpg</td>\n",
              "      <td>Bold Films,Blumhouse Productions,Right of Way ...</td>\n",
              "      <td>US</td>\n",
              "      <td>2014-10-10</td>\n",
              "      <td>105.0</td>\n",
              "      <td>en</td>\n",
              "      <td>Released</td>\n",
              "      <td>The road to greatness can take you to the edge.</td>\n",
              "      <td>Whiplash</td>\n",
              "      <td>jazz,obsession,conservatory,music teacher,new ...</td>\n",
              "      <td>[{'cast_id': 5, 'character': 'Andrew Neimann',...</td>\n",
              "      <td>[{'credit_id': '54d5356ec3a3683ba0000039', 'de...</td>\n",
              "      <td>16.387512</td>\n",
              "      <td>26.082</td>\n",
              "      <td>8.4</td>\n",
              "      <td>7314.0</td>\n",
              "      <td>1</td>\n",
              "      <td>1</td>\n",
              "      <td>3</td>\n",
              "      <td>1</td>\n",
              "      <td>51</td>\n",
              "      <td>64</td>\n",
              "      <td>115</td>\n",
              "      <td>12</td>\n",
              "      <td>8</td>\n",
              "      <td>130.0</td>\n",
              "      <td>47.0</td>\n",
              "      <td>2014</td>\n",
              "      <td>10</td>\n",
              "      <td>4</td>\n",
              "      <td>0</td>\n",
              "      <td>1</td>\n",
              "      <td>1</td>\n",
              "      <td>1</td>\n",
              "      <td>3.591640</td>\n",
              "      <td>0.080000</td>\n",
              "      <td>0.002052</td>\n",
              "      <td>1750.182868</td>\n",
              "      <td>0.002075</td>\n",
              "      <td>0.007453</td>\n",
              "      <td>134.182281</td>\n",
              "    </tr>\n",
              "    <tr>\n",
              "      <th>3</th>\n",
              "      <td>4</td>\n",
              "      <td></td>\n",
              "      <td>13.997833</td>\n",
              "      <td>Thriller,Drama</td>\n",
              "      <td>http://kahaanithefilm.com/</td>\n",
              "      <td>tt1821480</td>\n",
              "      <td>hi</td>\n",
              "      <td>Kahaani</td>\n",
              "      <td>Vidya Bagchi (Vidya Balan) arrives in Kolkata ...</td>\n",
              "      <td>1.429099</td>\n",
              "      <td>/aTXRaPrWSinhcmCrcfJK17urp3F.jpg</td>\n",
              "      <td></td>\n",
              "      <td>IN</td>\n",
              "      <td>2012-03-09</td>\n",
              "      <td>122.0</td>\n",
              "      <td>en,hi</td>\n",
              "      <td>Released</td>\n",
              "      <td>0</td>\n",
              "      <td>Kahaani</td>\n",
              "      <td>mystery,bollywood,police corruption,crime,indi...</td>\n",
              "      <td>[{'cast_id': 1, 'character': 'Vidya Bagchi', '...</td>\n",
              "      <td>[{'credit_id': '52fe48779251416c9108d6eb', 'de...</td>\n",
              "      <td>16.588099</td>\n",
              "      <td>5.531</td>\n",
              "      <td>7.5</td>\n",
              "      <td>115.0</td>\n",
              "      <td>2</td>\n",
              "      <td>1</td>\n",
              "      <td>0</td>\n",
              "      <td>2</td>\n",
              "      <td>7</td>\n",
              "      <td>3</td>\n",
              "      <td>10</td>\n",
              "      <td>7</td>\n",
              "      <td>7</td>\n",
              "      <td>581.0</td>\n",
              "      <td>0.0</td>\n",
              "      <td>2012</td>\n",
              "      <td>3</td>\n",
              "      <td>4</td>\n",
              "      <td>0</td>\n",
              "      <td>0</td>\n",
              "      <td>0</td>\n",
              "      <td>1</td>\n",
              "      <td>9.794866</td>\n",
              "      <td>0.061475</td>\n",
              "      <td>0.121720</td>\n",
              "      <td>80.470281</td>\n",
              "      <td>0.000710</td>\n",
              "      <td>0.006957</td>\n",
              "      <td>143.736535</td>\n",
              "    </tr>\n",
              "    <tr>\n",
              "      <th>4</th>\n",
              "      <td>5</td>\n",
              "      <td></td>\n",
              "      <td>0.000000</td>\n",
              "      <td>Action,Thriller</td>\n",
              "      <td>0</td>\n",
              "      <td>tt1380152</td>\n",
              "      <td>ko</td>\n",
              "      <td>마린보이</td>\n",
              "      <td>Marine Boy is the story of a former national s...</td>\n",
              "      <td>0.764570</td>\n",
              "      <td>/m22s7zvkVFDU9ir56PiiqIEWFdT.jpg</td>\n",
              "      <td></td>\n",
              "      <td>KR</td>\n",
              "      <td>2009-02-05</td>\n",
              "      <td>118.0</td>\n",
              "      <td>ko</td>\n",
              "      <td>Released</td>\n",
              "      <td>0</td>\n",
              "      <td>Marine Boy</td>\n",
              "      <td></td>\n",
              "      <td>[{'cast_id': 3, 'character': 'Chun-soo', 'cred...</td>\n",
              "      <td>[{'credit_id': '52fe464b9251416c75073b43', 'de...</td>\n",
              "      <td>15.182615</td>\n",
              "      <td>0.000</td>\n",
              "      <td>0.0</td>\n",
              "      <td>0.0</td>\n",
              "      <td>2</td>\n",
              "      <td>1</td>\n",
              "      <td>0</td>\n",
              "      <td>1</td>\n",
              "      <td>4</td>\n",
              "      <td>2</td>\n",
              "      <td>6</td>\n",
              "      <td>0</td>\n",
              "      <td>10</td>\n",
              "      <td>168.0</td>\n",
              "      <td>0.0</td>\n",
              "      <td>2009</td>\n",
              "      <td>2</td>\n",
              "      <td>3</td>\n",
              "      <td>0</td>\n",
              "      <td>0</td>\n",
              "      <td>0</td>\n",
              "      <td>0</td>\n",
              "      <td>0.000000</td>\n",
              "      <td>0.000000</td>\n",
              "      <td>0.000000</td>\n",
              "      <td>0.000000</td>\n",
              "      <td>0.000381</td>\n",
              "      <td>0.000000</td>\n",
              "      <td>0.000000</td>\n",
              "    </tr>\n",
              "  </tbody>\n",
              "</table>\n",
              "</div>"
            ],
            "text/plain": [
              "   id            belongs_to_collection  ...  budget_release_year year_to_budget\n",
              "0   1  Hot Tub Time Machine Collection  ...             0.008166     122.458396\n",
              "1   2  The Princess Diaries Collection  ...             0.008735     114.485566\n",
              "2   3                                   ...             0.007453     134.182281\n",
              "3   4                                   ...             0.006957     143.736535\n",
              "4   5                                   ...             0.000000       0.000000\n",
              "\n",
              "[5 rows x 51 columns]"
            ]
          },
          "metadata": {
            "tags": []
          },
          "execution_count": 27
        }
      ]
    },
    {
      "cell_type": "markdown",
      "metadata": {
        "id": "A5DGXPQfqA4a",
        "colab_type": "text"
      },
      "source": [
        "## Data preparation"
      ]
    },
    {
      "cell_type": "code",
      "metadata": {
        "id": "5_O8cUzt8uVf",
        "colab_type": "code",
        "colab": {}
      },
      "source": [
        "#prepare data for training\n",
        "train_new = train.drop(columns=['id','belongs_to_collection','genres','homepage','imdb_id','original_language'\n",
        "                ,'original_title','overview','poster_path','production_companies','production_countries'\n",
        "                ,'release_date','spoken_languages','status','tagline','title','Keywords','cast','crew'])\n",
        "test_new = test.drop(columns=['id','belongs_to_collection','genres','homepage','imdb_id','original_language'\n",
        "                ,'original_title','overview','poster_path','production_companies','production_countries'\n",
        "                ,'release_date','spoken_languages','status','tagline','title','Keywords','cast','crew'])"
      ],
      "execution_count": 0,
      "outputs": []
    },
    {
      "cell_type": "code",
      "metadata": {
        "id": "MHNk1m27uqpn",
        "colab_type": "code",
        "outputId": "9b8d5ab5-081a-45b7-93f3-b9ebf42d5a43",
        "colab": {
          "base_uri": "https://localhost:8080/",
          "height": 35
        }
      },
      "source": [
        "from sklearn.model_selection  import train_test_split\n",
        "\n",
        "y = train_new.revenue\n",
        "\n",
        "X = train_new.drop(columns=['revenue'])\n",
        "\n",
        "X_train, X_test, y_train, y_test = train_test_split(X, y, test_size=0.3, random_state=0)\n",
        "\n",
        "print(X_train.shape, X_test.shape, y_train.shape, y_test.shape)"
      ],
      "execution_count": 29,
      "outputs": [
        {
          "output_type": "stream",
          "text": [
            "(2100, 31) (900, 31) (2100,) (900,)\n"
          ],
          "name": "stdout"
        }
      ]
    },
    {
      "cell_type": "code",
      "metadata": {
        "id": "_UiCOyt3-ghh",
        "colab_type": "code",
        "outputId": "7db19171-64d2-46a4-8b99-bbac2393de65",
        "colab": {
          "base_uri": "https://localhost:8080/",
          "height": 220
        }
      },
      "source": [
        "X_train.head()"
      ],
      "execution_count": 30,
      "outputs": [
        {
          "output_type": "execute_result",
          "data": {
            "text/html": [
              "<div>\n",
              "<style scoped>\n",
              "    .dataframe tbody tr th:only-of-type {\n",
              "        vertical-align: middle;\n",
              "    }\n",
              "\n",
              "    .dataframe tbody tr th {\n",
              "        vertical-align: top;\n",
              "    }\n",
              "\n",
              "    .dataframe thead th {\n",
              "        text-align: right;\n",
              "    }\n",
              "</style>\n",
              "<table border=\"1\" class=\"dataframe\">\n",
              "  <thead>\n",
              "    <tr style=\"text-align: right;\">\n",
              "      <th></th>\n",
              "      <th>budget</th>\n",
              "      <th>popularity</th>\n",
              "      <th>runtime</th>\n",
              "      <th>popularity2</th>\n",
              "      <th>rating</th>\n",
              "      <th>totalVotes</th>\n",
              "      <th>count_genre</th>\n",
              "      <th>count_country</th>\n",
              "      <th>count_company</th>\n",
              "      <th>count_splang</th>\n",
              "      <th>count_cast</th>\n",
              "      <th>count_crew</th>\n",
              "      <th>count_staff</th>\n",
              "      <th>count_keyword</th>\n",
              "      <th>len_title</th>\n",
              "      <th>len_overview</th>\n",
              "      <th>len_tagline</th>\n",
              "      <th>release_year</th>\n",
              "      <th>release_month</th>\n",
              "      <th>release_wday</th>\n",
              "      <th>in_collection</th>\n",
              "      <th>us_country</th>\n",
              "      <th>en_lang</th>\n",
              "      <th>has_hompage</th>\n",
              "      <th>budget_to_popularity</th>\n",
              "      <th>rating_to_runtime</th>\n",
              "      <th>budget_to_totalVotes</th>\n",
              "      <th>totalVotes_to_popularity</th>\n",
              "      <th>popularity_release_year</th>\n",
              "      <th>budget_release_year</th>\n",
              "      <th>year_to_budget</th>\n",
              "    </tr>\n",
              "  </thead>\n",
              "  <tbody>\n",
              "    <tr>\n",
              "      <th>1732</th>\n",
              "      <td>15.520259</td>\n",
              "      <td>0.811060</td>\n",
              "      <td>140.0</td>\n",
              "      <td>1.593</td>\n",
              "      <td>4.6</td>\n",
              "      <td>14.0</td>\n",
              "      <td>3</td>\n",
              "      <td>1</td>\n",
              "      <td>1</td>\n",
              "      <td>1</td>\n",
              "      <td>10</td>\n",
              "      <td>1</td>\n",
              "      <td>11</td>\n",
              "      <td>0</td>\n",
              "      <td>11</td>\n",
              "      <td>478.0</td>\n",
              "      <td>23.0</td>\n",
              "      <td>2013</td>\n",
              "      <td>9</td>\n",
              "      <td>4</td>\n",
              "      <td>1</td>\n",
              "      <td>0</td>\n",
              "      <td>0</td>\n",
              "      <td>0</td>\n",
              "      <td>19.135761</td>\n",
              "      <td>0.032857</td>\n",
              "      <td>1.108590</td>\n",
              "      <td>17.261353</td>\n",
              "      <td>0.000403</td>\n",
              "      <td>0.007710</td>\n",
              "      <td>129.701445</td>\n",
              "    </tr>\n",
              "    <tr>\n",
              "      <th>2441</th>\n",
              "      <td>17.111347</td>\n",
              "      <td>2.497405</td>\n",
              "      <td>110.0</td>\n",
              "      <td>15.082</td>\n",
              "      <td>7.5</td>\n",
              "      <td>2083.0</td>\n",
              "      <td>4</td>\n",
              "      <td>2</td>\n",
              "      <td>6</td>\n",
              "      <td>1</td>\n",
              "      <td>17</td>\n",
              "      <td>16</td>\n",
              "      <td>33</td>\n",
              "      <td>18</td>\n",
              "      <td>19</td>\n",
              "      <td>284.0</td>\n",
              "      <td>38.0</td>\n",
              "      <td>2006</td>\n",
              "      <td>2</td>\n",
              "      <td>4</td>\n",
              "      <td>0</td>\n",
              "      <td>1</td>\n",
              "      <td>1</td>\n",
              "      <td>0</td>\n",
              "      <td>6.851651</td>\n",
              "      <td>0.068182</td>\n",
              "      <td>0.008215</td>\n",
              "      <td>834.065798</td>\n",
              "      <td>0.001245</td>\n",
              "      <td>0.008530</td>\n",
              "      <td>117.232147</td>\n",
              "    </tr>\n",
              "    <tr>\n",
              "      <th>1232</th>\n",
              "      <td>0.000000</td>\n",
              "      <td>0.481459</td>\n",
              "      <td>116.0</td>\n",
              "      <td>1.810</td>\n",
              "      <td>5.7</td>\n",
              "      <td>11.0</td>\n",
              "      <td>1</td>\n",
              "      <td>2</td>\n",
              "      <td>7</td>\n",
              "      <td>1</td>\n",
              "      <td>7</td>\n",
              "      <td>14</td>\n",
              "      <td>21</td>\n",
              "      <td>2</td>\n",
              "      <td>15</td>\n",
              "      <td>393.0</td>\n",
              "      <td>0.0</td>\n",
              "      <td>2007</td>\n",
              "      <td>9</td>\n",
              "      <td>2</td>\n",
              "      <td>0</td>\n",
              "      <td>0</td>\n",
              "      <td>1</td>\n",
              "      <td>1</td>\n",
              "      <td>0.000000</td>\n",
              "      <td>0.049138</td>\n",
              "      <td>0.000000</td>\n",
              "      <td>22.847220</td>\n",
              "      <td>0.000240</td>\n",
              "      <td>0.000000</td>\n",
              "      <td>0.000000</td>\n",
              "    </tr>\n",
              "    <tr>\n",
              "      <th>1081</th>\n",
              "      <td>16.523561</td>\n",
              "      <td>2.652101</td>\n",
              "      <td>110.0</td>\n",
              "      <td>13.156</td>\n",
              "      <td>7.1</td>\n",
              "      <td>2155.0</td>\n",
              "      <td>5</td>\n",
              "      <td>1</td>\n",
              "      <td>2</td>\n",
              "      <td>1</td>\n",
              "      <td>19</td>\n",
              "      <td>13</td>\n",
              "      <td>32</td>\n",
              "      <td>10</td>\n",
              "      <td>13</td>\n",
              "      <td>373.0</td>\n",
              "      <td>80.0</td>\n",
              "      <td>1987</td>\n",
              "      <td>3</td>\n",
              "      <td>4</td>\n",
              "      <td>1</td>\n",
              "      <td>1</td>\n",
              "      <td>1</td>\n",
              "      <td>0</td>\n",
              "      <td>6.230367</td>\n",
              "      <td>0.064545</td>\n",
              "      <td>0.007668</td>\n",
              "      <td>812.563399</td>\n",
              "      <td>0.001335</td>\n",
              "      <td>0.008316</td>\n",
              "      <td>120.252530</td>\n",
              "    </tr>\n",
              "    <tr>\n",
              "      <th>2921</th>\n",
              "      <td>0.000000</td>\n",
              "      <td>0.041176</td>\n",
              "      <td>92.0</td>\n",
              "      <td>0.000</td>\n",
              "      <td>0.0</td>\n",
              "      <td>0.0</td>\n",
              "      <td>3</td>\n",
              "      <td>2</td>\n",
              "      <td>4</td>\n",
              "      <td>1</td>\n",
              "      <td>38</td>\n",
              "      <td>31</td>\n",
              "      <td>69</td>\n",
              "      <td>5</td>\n",
              "      <td>14</td>\n",
              "      <td>490.0</td>\n",
              "      <td>41.0</td>\n",
              "      <td>2000</td>\n",
              "      <td>10</td>\n",
              "      <td>6</td>\n",
              "      <td>0</td>\n",
              "      <td>0</td>\n",
              "      <td>1</td>\n",
              "      <td>0</td>\n",
              "      <td>0.000000</td>\n",
              "      <td>0.000000</td>\n",
              "      <td>0.000000</td>\n",
              "      <td>0.000000</td>\n",
              "      <td>0.000021</td>\n",
              "      <td>0.000000</td>\n",
              "      <td>0.000000</td>\n",
              "    </tr>\n",
              "  </tbody>\n",
              "</table>\n",
              "</div>"
            ],
            "text/plain": [
              "         budget  popularity  ...  budget_release_year  year_to_budget\n",
              "1732  15.520259    0.811060  ...             0.007710      129.701445\n",
              "2441  17.111347    2.497405  ...             0.008530      117.232147\n",
              "1232   0.000000    0.481459  ...             0.000000        0.000000\n",
              "1081  16.523561    2.652101  ...             0.008316      120.252530\n",
              "2921   0.000000    0.041176  ...             0.000000        0.000000\n",
              "\n",
              "[5 rows x 31 columns]"
            ]
          },
          "metadata": {
            "tags": []
          },
          "execution_count": 30
        }
      ]
    },
    {
      "cell_type": "markdown",
      "metadata": {
        "id": "qgRpPBIqCAHg",
        "colab_type": "text"
      },
      "source": [
        "# Modeling"
      ]
    },
    {
      "cell_type": "code",
      "metadata": {
        "id": "N5Fl1mps5dFI",
        "colab_type": "code",
        "colab": {}
      },
      "source": [
        "import math\n",
        "\n",
        "def rmse(x,y): return math.sqrt(((x-y)**2).mean())\n",
        "\n",
        "# print_score function depending on the evaluation metric: rmse\n",
        "def print_score(m):\n",
        "    res = [rmse(m.predict(X_train), y_train), rmse(m.predict(X_test), y_test),\n",
        "                m.score(X_train, y_train), m.score(X_test, y_test)]\n",
        "    if hasattr(m, 'oob_score_'): res.append(m.oob_score_)\n",
        "    print(res)"
      ],
      "execution_count": 0,
      "outputs": []
    },
    {
      "cell_type": "code",
      "metadata": {
        "id": "SuaH1aVT7U-S",
        "colab_type": "code",
        "colab": {}
      },
      "source": [
        "#feature importance to dataframe\n",
        "def feature_importance(m, df):\n",
        "    return pd.DataFrame({'cols':df.columns, 'imp':m.feature_importances_}\n",
        "                       ).sort_values('imp', ascending=True)\n",
        "# function to plot feature importance\n",
        "def plot_fi(fi): return fi.plot('cols','imp','barh', figsize = (10,8), legend=False)"
      ],
      "execution_count": 0,
      "outputs": []
    },
    {
      "cell_type": "markdown",
      "metadata": {
        "id": "3LaMnX6zqicC",
        "colab_type": "text"
      },
      "source": [
        "## Random Forest"
      ]
    },
    {
      "cell_type": "code",
      "metadata": {
        "id": "N-ajBnOwAIuL",
        "colab_type": "code",
        "outputId": "f5926212-d0c7-41bc-f4eb-4b26e184f37f",
        "colab": {
          "base_uri": "https://localhost:8080/",
          "height": 141
        }
      },
      "source": [
        "from sklearn.ensemble import RandomForestRegressor\n",
        "rf = RandomForestRegressor(n_estimators=40, min_samples_leaf=10, max_features=0.5, n_jobs=-1, oob_score=True)\n",
        "rf.fit(X_train, y_train)"
      ],
      "execution_count": 33,
      "outputs": [
        {
          "output_type": "execute_result",
          "data": {
            "text/plain": [
              "RandomForestRegressor(bootstrap=True, criterion='mse', max_depth=None,\n",
              "                      max_features=0.5, max_leaf_nodes=None,\n",
              "                      min_impurity_decrease=0.0, min_impurity_split=None,\n",
              "                      min_samples_leaf=10, min_samples_split=2,\n",
              "                      min_weight_fraction_leaf=0.0, n_estimators=40, n_jobs=-1,\n",
              "                      oob_score=True, random_state=None, verbose=0,\n",
              "                      warm_start=False)"
            ]
          },
          "metadata": {
            "tags": []
          },
          "execution_count": 33
        }
      ]
    },
    {
      "cell_type": "code",
      "metadata": {
        "id": "3_o0bygj_z7G",
        "colab_type": "code",
        "outputId": "2c7ba01e-76b2-4010-983e-ea72b7b17837",
        "colab": {
          "base_uri": "https://localhost:8080/",
          "height": 52
        }
      },
      "source": [
        "print('R2 for Train', rf.score( X_train, y_train ))\n",
        "print_score(rf)"
      ],
      "execution_count": 34,
      "outputs": [
        {
          "output_type": "stream",
          "text": [
            "R2 for Train 0.697849141807315\n",
            "[1.70718748322225, 1.962947719465854, 0.697849141807315, 0.5561806007344945, 0.5252870040905468]\n"
          ],
          "name": "stdout"
        }
      ]
    },
    {
      "cell_type": "code",
      "metadata": {
        "id": "fw0CZiD09ROQ",
        "colab_type": "code",
        "outputId": "e46fc18a-9b8f-436e-c0b8-058c99db77b6",
        "colab": {
          "base_uri": "https://localhost:8080/",
          "height": 141
        }
      },
      "source": [
        "rf.feature_importances_"
      ],
      "execution_count": 35,
      "outputs": [
        {
          "output_type": "execute_result",
          "data": {
            "text/plain": [
              "array([0.09653546, 0.03902529, 0.0230808 , 0.04896173, 0.01637584,\n",
              "       0.16337406, 0.00398772, 0.00176234, 0.00448165, 0.00078767,\n",
              "       0.00940503, 0.0061385 , 0.0070885 , 0.00561604, 0.00796017,\n",
              "       0.0072612 , 0.00659965, 0.05602656, 0.00935102, 0.00424729,\n",
              "       0.00343063, 0.00382663, 0.00321507, 0.00077268, 0.00802557,\n",
              "       0.01240382, 0.02183302, 0.05542523, 0.05833258, 0.25486225,\n",
              "       0.05980598])"
            ]
          },
          "metadata": {
            "tags": []
          },
          "execution_count": 35
        }
      ]
    },
    {
      "cell_type": "code",
      "metadata": {
        "id": "wEce1sl8-L_D",
        "colab_type": "code",
        "outputId": "7a32cad3-74f5-481b-c578-3d22bec81c3e",
        "colab": {
          "base_uri": "https://localhost:8080/",
          "height": 990
        }
      },
      "source": [
        "fi = feature_importance(rf, X_train)\n",
        "fi"
      ],
      "execution_count": 36,
      "outputs": [
        {
          "output_type": "execute_result",
          "data": {
            "text/html": [
              "<div>\n",
              "<style scoped>\n",
              "    .dataframe tbody tr th:only-of-type {\n",
              "        vertical-align: middle;\n",
              "    }\n",
              "\n",
              "    .dataframe tbody tr th {\n",
              "        vertical-align: top;\n",
              "    }\n",
              "\n",
              "    .dataframe thead th {\n",
              "        text-align: right;\n",
              "    }\n",
              "</style>\n",
              "<table border=\"1\" class=\"dataframe\">\n",
              "  <thead>\n",
              "    <tr style=\"text-align: right;\">\n",
              "      <th></th>\n",
              "      <th>cols</th>\n",
              "      <th>imp</th>\n",
              "    </tr>\n",
              "  </thead>\n",
              "  <tbody>\n",
              "    <tr>\n",
              "      <th>23</th>\n",
              "      <td>has_hompage</td>\n",
              "      <td>0.000773</td>\n",
              "    </tr>\n",
              "    <tr>\n",
              "      <th>9</th>\n",
              "      <td>count_splang</td>\n",
              "      <td>0.000788</td>\n",
              "    </tr>\n",
              "    <tr>\n",
              "      <th>7</th>\n",
              "      <td>count_country</td>\n",
              "      <td>0.001762</td>\n",
              "    </tr>\n",
              "    <tr>\n",
              "      <th>22</th>\n",
              "      <td>en_lang</td>\n",
              "      <td>0.003215</td>\n",
              "    </tr>\n",
              "    <tr>\n",
              "      <th>20</th>\n",
              "      <td>in_collection</td>\n",
              "      <td>0.003431</td>\n",
              "    </tr>\n",
              "    <tr>\n",
              "      <th>21</th>\n",
              "      <td>us_country</td>\n",
              "      <td>0.003827</td>\n",
              "    </tr>\n",
              "    <tr>\n",
              "      <th>6</th>\n",
              "      <td>count_genre</td>\n",
              "      <td>0.003988</td>\n",
              "    </tr>\n",
              "    <tr>\n",
              "      <th>19</th>\n",
              "      <td>release_wday</td>\n",
              "      <td>0.004247</td>\n",
              "    </tr>\n",
              "    <tr>\n",
              "      <th>8</th>\n",
              "      <td>count_company</td>\n",
              "      <td>0.004482</td>\n",
              "    </tr>\n",
              "    <tr>\n",
              "      <th>13</th>\n",
              "      <td>count_keyword</td>\n",
              "      <td>0.005616</td>\n",
              "    </tr>\n",
              "    <tr>\n",
              "      <th>11</th>\n",
              "      <td>count_crew</td>\n",
              "      <td>0.006139</td>\n",
              "    </tr>\n",
              "    <tr>\n",
              "      <th>16</th>\n",
              "      <td>len_tagline</td>\n",
              "      <td>0.006600</td>\n",
              "    </tr>\n",
              "    <tr>\n",
              "      <th>12</th>\n",
              "      <td>count_staff</td>\n",
              "      <td>0.007088</td>\n",
              "    </tr>\n",
              "    <tr>\n",
              "      <th>15</th>\n",
              "      <td>len_overview</td>\n",
              "      <td>0.007261</td>\n",
              "    </tr>\n",
              "    <tr>\n",
              "      <th>14</th>\n",
              "      <td>len_title</td>\n",
              "      <td>0.007960</td>\n",
              "    </tr>\n",
              "    <tr>\n",
              "      <th>24</th>\n",
              "      <td>budget_to_popularity</td>\n",
              "      <td>0.008026</td>\n",
              "    </tr>\n",
              "    <tr>\n",
              "      <th>18</th>\n",
              "      <td>release_month</td>\n",
              "      <td>0.009351</td>\n",
              "    </tr>\n",
              "    <tr>\n",
              "      <th>10</th>\n",
              "      <td>count_cast</td>\n",
              "      <td>0.009405</td>\n",
              "    </tr>\n",
              "    <tr>\n",
              "      <th>25</th>\n",
              "      <td>rating_to_runtime</td>\n",
              "      <td>0.012404</td>\n",
              "    </tr>\n",
              "    <tr>\n",
              "      <th>4</th>\n",
              "      <td>rating</td>\n",
              "      <td>0.016376</td>\n",
              "    </tr>\n",
              "    <tr>\n",
              "      <th>26</th>\n",
              "      <td>budget_to_totalVotes</td>\n",
              "      <td>0.021833</td>\n",
              "    </tr>\n",
              "    <tr>\n",
              "      <th>2</th>\n",
              "      <td>runtime</td>\n",
              "      <td>0.023081</td>\n",
              "    </tr>\n",
              "    <tr>\n",
              "      <th>1</th>\n",
              "      <td>popularity</td>\n",
              "      <td>0.039025</td>\n",
              "    </tr>\n",
              "    <tr>\n",
              "      <th>3</th>\n",
              "      <td>popularity2</td>\n",
              "      <td>0.048962</td>\n",
              "    </tr>\n",
              "    <tr>\n",
              "      <th>27</th>\n",
              "      <td>totalVotes_to_popularity</td>\n",
              "      <td>0.055425</td>\n",
              "    </tr>\n",
              "    <tr>\n",
              "      <th>17</th>\n",
              "      <td>release_year</td>\n",
              "      <td>0.056027</td>\n",
              "    </tr>\n",
              "    <tr>\n",
              "      <th>28</th>\n",
              "      <td>popularity_release_year</td>\n",
              "      <td>0.058333</td>\n",
              "    </tr>\n",
              "    <tr>\n",
              "      <th>30</th>\n",
              "      <td>year_to_budget</td>\n",
              "      <td>0.059806</td>\n",
              "    </tr>\n",
              "    <tr>\n",
              "      <th>0</th>\n",
              "      <td>budget</td>\n",
              "      <td>0.096535</td>\n",
              "    </tr>\n",
              "    <tr>\n",
              "      <th>5</th>\n",
              "      <td>totalVotes</td>\n",
              "      <td>0.163374</td>\n",
              "    </tr>\n",
              "    <tr>\n",
              "      <th>29</th>\n",
              "      <td>budget_release_year</td>\n",
              "      <td>0.254862</td>\n",
              "    </tr>\n",
              "  </tbody>\n",
              "</table>\n",
              "</div>"
            ],
            "text/plain": [
              "                        cols       imp\n",
              "23               has_hompage  0.000773\n",
              "9               count_splang  0.000788\n",
              "7              count_country  0.001762\n",
              "22                   en_lang  0.003215\n",
              "20             in_collection  0.003431\n",
              "21                us_country  0.003827\n",
              "6                count_genre  0.003988\n",
              "19              release_wday  0.004247\n",
              "8              count_company  0.004482\n",
              "13             count_keyword  0.005616\n",
              "11                count_crew  0.006139\n",
              "16               len_tagline  0.006600\n",
              "12               count_staff  0.007088\n",
              "15              len_overview  0.007261\n",
              "14                 len_title  0.007960\n",
              "24      budget_to_popularity  0.008026\n",
              "18             release_month  0.009351\n",
              "10                count_cast  0.009405\n",
              "25         rating_to_runtime  0.012404\n",
              "4                     rating  0.016376\n",
              "26      budget_to_totalVotes  0.021833\n",
              "2                    runtime  0.023081\n",
              "1                 popularity  0.039025\n",
              "3                popularity2  0.048962\n",
              "27  totalVotes_to_popularity  0.055425\n",
              "17              release_year  0.056027\n",
              "28   popularity_release_year  0.058333\n",
              "30            year_to_budget  0.059806\n",
              "0                     budget  0.096535\n",
              "5                 totalVotes  0.163374\n",
              "29       budget_release_year  0.254862"
            ]
          },
          "metadata": {
            "tags": []
          },
          "execution_count": 36
        }
      ]
    },
    {
      "cell_type": "code",
      "metadata": {
        "id": "4zaQzAWN-bjT",
        "colab_type": "code",
        "outputId": "5c28cb92-e6a6-4c41-bf5c-083cfecbfd84",
        "colab": {
          "base_uri": "https://localhost:8080/",
          "height": 501
        }
      },
      "source": [
        "plot_fi(fi[:10])"
      ],
      "execution_count": 37,
      "outputs": [
        {
          "output_type": "execute_result",
          "data": {
            "text/plain": [
              "<matplotlib.axes._subplots.AxesSubplot at 0x7f816c92dd30>"
            ]
          },
          "metadata": {
            "tags": []
          },
          "execution_count": 37
        },
        {
          "output_type": "display_data",
          "data": {
            "image/png": "[encoded data removed]",
            "text/plain": [
              "<Figure size 720x576 with 1 Axes>"
            ]
          },
          "metadata": {
            "tags": []
          }
        }
      ]
    },
    {
      "cell_type": "markdown",
      "metadata": {
        "id": "98LbAkFwqnRE",
        "colab_type": "text"
      },
      "source": [
        "## Linear Regression"
      ]
    },
    {
      "cell_type": "code",
      "metadata": {
        "id": "LTG07EYbABRE",
        "colab_type": "code",
        "outputId": "2648697a-778a-4b70-e6bb-0022f8857b28",
        "colab": {
          "base_uri": "https://localhost:8080/",
          "height": 70
        }
      },
      "source": [
        "from sklearn.linear_model import LinearRegression\n",
        "lm = LinearRegression()\n",
        "lm.fit( X_train, y_train )\n",
        "print('R2 for Train', lm.score( X_train, y_train ))\n",
        "print('R2 for Test (cross validation)', lm.score(X_test, y_test))\n",
        "print_score(lm)"
      ],
      "execution_count": 38,
      "outputs": [
        {
          "output_type": "stream",
          "text": [
            "R2 for Train 0.5274638589308012\n",
            "R2 for Test (cross validation) 0.4158639206907183\n",
            "[2.1349456181356903, 2.251970037675426, 0.5274638589308012, 0.4158639206907183]\n"
          ],
          "name": "stdout"
        }
      ]
    },
    {
      "cell_type": "markdown",
      "metadata": {
        "id": "zMRmIbZSNQSH",
        "colab_type": "text"
      },
      "source": [
        "## LightGBM"
      ]
    },
    {
      "cell_type": "code",
      "metadata": {
        "id": "8yu8gxWtNUm8",
        "colab_type": "code",
        "colab": {}
      },
      "source": [
        "import lightgbm as lgb\n",
        "\n",
        "lgbm = lgb.LGBMRegressor(objective='regression',num_leaves=8,\n",
        "                              learning_rate=0.05, n_estimators=650,\n",
        "                              max_bin=58, bagging_fraction=0.80,\n",
        "                              bagging_freq=5, feature_fraction=0.2319,\n",
        "                              feature_fraction_seed=9, bagging_seed=9,\n",
        "                              min_data_in_leaf=7, min_sum_hessian_in_leaf=11)\n"
      ],
      "execution_count": 0,
      "outputs": []
    },
    {
      "cell_type": "code",
      "metadata": {
        "id": "373JsVppjo8X",
        "colab_type": "code",
        "outputId": "e8b27f9d-21a8-42bd-dcc6-82a70778602a",
        "colab": {
          "base_uri": "https://localhost:8080/",
          "height": 1000
        }
      },
      "source": [
        "lgbm.fit(X_train, y_train, eval_set=[(X_test, y_test)],eval_metric='l1',early_stopping_rounds=10)\n",
        "lgbm_train_y = lgbm.predict(X_train)\n",
        "lgbm_test_y = np.expm1(lgbm.predict(X_train))\n",
        "print_score(lgbm)"
      ],
      "execution_count": 40,
      "outputs": [
        {
          "output_type": "stream",
          "text": [
            "[1]\tvalid_0's l2: 8.45647\tvalid_0's l1: 2.17506\n",
            "Training until validation scores don't improve for 10 rounds.\n",
            "[2]\tvalid_0's l2: 8.11595\tvalid_0's l1: 2.12138\n",
            "[3]\tvalid_0's l2: 7.76696\tvalid_0's l1: 2.07064\n",
            "[4]\tvalid_0's l2: 7.47065\tvalid_0's l1: 2.02279\n",
            "[5]\tvalid_0's l2: 7.27123\tvalid_0's l1: 1.99034\n",
            "[6]\tvalid_0's l2: 7.03755\tvalid_0's l1: 1.95124\n",
            "[7]\tvalid_0's l2: 6.80012\tvalid_0's l1: 1.91423\n",
            "[8]\tvalid_0's l2: 6.60263\tvalid_0's l1: 1.88329\n",
            "[9]\tvalid_0's l2: 6.41907\tvalid_0's l1: 1.85081\n",
            "[10]\tvalid_0's l2: 6.25494\tvalid_0's l1: 1.82168\n",
            "[11]\tvalid_0's l2: 6.08627\tvalid_0's l1: 1.79102\n",
            "[12]\tvalid_0's l2: 5.9314\tvalid_0's l1: 1.76063\n",
            "[13]\tvalid_0's l2: 5.84544\tvalid_0's l1: 1.74525\n",
            "[14]\tvalid_0's l2: 5.72726\tvalid_0's l1: 1.72263\n",
            "[15]\tvalid_0's l2: 5.59197\tvalid_0's l1: 1.69548\n",
            "[16]\tvalid_0's l2: 5.49134\tvalid_0's l1: 1.67522\n",
            "[17]\tvalid_0's l2: 5.43579\tvalid_0's l1: 1.6655\n",
            "[18]\tvalid_0's l2: 5.33103\tvalid_0's l1: 1.64509\n",
            "[19]\tvalid_0's l2: 5.28136\tvalid_0's l1: 1.63579\n",
            "[20]\tvalid_0's l2: 5.2\tvalid_0's l1: 1.61929\n",
            "[21]\tvalid_0's l2: 5.12794\tvalid_0's l1: 1.60474\n",
            "[22]\tvalid_0's l2: 5.06299\tvalid_0's l1: 1.59119\n",
            "[23]\tvalid_0's l2: 5.00633\tvalid_0's l1: 1.57688\n",
            "[24]\tvalid_0's l2: 4.95011\tvalid_0's l1: 1.56439\n",
            "[25]\tvalid_0's l2: 4.88923\tvalid_0's l1: 1.54999\n",
            "[26]\tvalid_0's l2: 4.83004\tvalid_0's l1: 1.53678\n",
            "[27]\tvalid_0's l2: 4.76002\tvalid_0's l1: 1.52086\n",
            "[28]\tvalid_0's l2: 4.70943\tvalid_0's l1: 1.50984\n",
            "[29]\tvalid_0's l2: 4.64964\tvalid_0's l1: 1.49772\n",
            "[30]\tvalid_0's l2: 4.61706\tvalid_0's l1: 1.48916\n",
            "[31]\tvalid_0's l2: 4.58936\tvalid_0's l1: 1.4819\n",
            "[32]\tvalid_0's l2: 4.56744\tvalid_0's l1: 1.47496\n",
            "[33]\tvalid_0's l2: 4.54053\tvalid_0's l1: 1.46818\n",
            "[34]\tvalid_0's l2: 4.51962\tvalid_0's l1: 1.46262\n",
            "[35]\tvalid_0's l2: 4.48662\tvalid_0's l1: 1.45562\n",
            "[36]\tvalid_0's l2: 4.46159\tvalid_0's l1: 1.44831\n",
            "[37]\tvalid_0's l2: 4.43856\tvalid_0's l1: 1.44164\n",
            "[38]\tvalid_0's l2: 4.42261\tvalid_0's l1: 1.43665\n",
            "[39]\tvalid_0's l2: 4.40883\tvalid_0's l1: 1.43407\n",
            "[40]\tvalid_0's l2: 4.39788\tvalid_0's l1: 1.43061\n",
            "[41]\tvalid_0's l2: 4.39255\tvalid_0's l1: 1.42872\n",
            "[42]\tvalid_0's l2: 4.36718\tvalid_0's l1: 1.42197\n",
            "[43]\tvalid_0's l2: 4.35429\tvalid_0's l1: 1.41856\n",
            "[44]\tvalid_0's l2: 4.34573\tvalid_0's l1: 1.41504\n",
            "[45]\tvalid_0's l2: 4.32787\tvalid_0's l1: 1.40952\n",
            "[46]\tvalid_0's l2: 4.304\tvalid_0's l1: 1.40312\n",
            "[47]\tvalid_0's l2: 4.2975\tvalid_0's l1: 1.40163\n",
            "[48]\tvalid_0's l2: 4.2844\tvalid_0's l1: 1.39899\n",
            "[49]\tvalid_0's l2: 4.27739\tvalid_0's l1: 1.39619\n",
            "[50]\tvalid_0's l2: 4.26505\tvalid_0's l1: 1.39123\n",
            "[51]\tvalid_0's l2: 4.25443\tvalid_0's l1: 1.38796\n",
            "[52]\tvalid_0's l2: 4.23737\tvalid_0's l1: 1.38316\n",
            "[53]\tvalid_0's l2: 4.22333\tvalid_0's l1: 1.38006\n",
            "[54]\tvalid_0's l2: 4.21884\tvalid_0's l1: 1.37876\n",
            "[55]\tvalid_0's l2: 4.21506\tvalid_0's l1: 1.3764\n",
            "[56]\tvalid_0's l2: 4.21237\tvalid_0's l1: 1.37533\n",
            "[57]\tvalid_0's l2: 4.21083\tvalid_0's l1: 1.37408\n",
            "[58]\tvalid_0's l2: 4.19853\tvalid_0's l1: 1.37023\n",
            "[59]\tvalid_0's l2: 4.19386\tvalid_0's l1: 1.36831\n",
            "[60]\tvalid_0's l2: 4.18472\tvalid_0's l1: 1.36545\n",
            "[61]\tvalid_0's l2: 4.18245\tvalid_0's l1: 1.36496\n",
            "[62]\tvalid_0's l2: 4.18746\tvalid_0's l1: 1.3656\n",
            "[63]\tvalid_0's l2: 4.17368\tvalid_0's l1: 1.36267\n",
            "[64]\tvalid_0's l2: 4.17039\tvalid_0's l1: 1.36031\n",
            "[65]\tvalid_0's l2: 4.16489\tvalid_0's l1: 1.35936\n",
            "[66]\tvalid_0's l2: 4.16554\tvalid_0's l1: 1.35843\n",
            "[67]\tvalid_0's l2: 4.157\tvalid_0's l1: 1.35598\n",
            "[68]\tvalid_0's l2: 4.16033\tvalid_0's l1: 1.35594\n",
            "[69]\tvalid_0's l2: 4.15053\tvalid_0's l1: 1.35333\n",
            "[70]\tvalid_0's l2: 4.14001\tvalid_0's l1: 1.35126\n",
            "[71]\tvalid_0's l2: 4.1267\tvalid_0's l1: 1.3477\n",
            "[72]\tvalid_0's l2: 4.12561\tvalid_0's l1: 1.34791\n",
            "[73]\tvalid_0's l2: 4.12519\tvalid_0's l1: 1.34811\n",
            "[74]\tvalid_0's l2: 4.11705\tvalid_0's l1: 1.34594\n",
            "[75]\tvalid_0's l2: 4.10765\tvalid_0's l1: 1.34409\n",
            "[76]\tvalid_0's l2: 4.11027\tvalid_0's l1: 1.34329\n",
            "[77]\tvalid_0's l2: 4.09902\tvalid_0's l1: 1.34014\n",
            "[78]\tvalid_0's l2: 4.09962\tvalid_0's l1: 1.33952\n",
            "[79]\tvalid_0's l2: 4.09663\tvalid_0's l1: 1.33959\n",
            "[80]\tvalid_0's l2: 4.07912\tvalid_0's l1: 1.33599\n",
            "[81]\tvalid_0's l2: 4.07586\tvalid_0's l1: 1.33508\n",
            "[82]\tvalid_0's l2: 4.07312\tvalid_0's l1: 1.33464\n",
            "[83]\tvalid_0's l2: 4.07592\tvalid_0's l1: 1.33397\n",
            "[84]\tvalid_0's l2: 4.06717\tvalid_0's l1: 1.33213\n",
            "[85]\tvalid_0's l2: 4.06362\tvalid_0's l1: 1.33179\n",
            "[86]\tvalid_0's l2: 4.05975\tvalid_0's l1: 1.33055\n",
            "[87]\tvalid_0's l2: 4.05598\tvalid_0's l1: 1.32884\n",
            "[88]\tvalid_0's l2: 4.05222\tvalid_0's l1: 1.32777\n",
            "[89]\tvalid_0's l2: 4.04665\tvalid_0's l1: 1.32642\n",
            "[90]\tvalid_0's l2: 4.04586\tvalid_0's l1: 1.32575\n",
            "[91]\tvalid_0's l2: 4.04357\tvalid_0's l1: 1.3245\n",
            "[92]\tvalid_0's l2: 4.04168\tvalid_0's l1: 1.32447\n",
            "[93]\tvalid_0's l2: 4.03972\tvalid_0's l1: 1.32371\n",
            "[94]\tvalid_0's l2: 4.03647\tvalid_0's l1: 1.32273\n",
            "[95]\tvalid_0's l2: 4.03136\tvalid_0's l1: 1.32185\n",
            "[96]\tvalid_0's l2: 4.03034\tvalid_0's l1: 1.32131\n",
            "[97]\tvalid_0's l2: 4.02523\tvalid_0's l1: 1.32043\n",
            "[98]\tvalid_0's l2: 4.0205\tvalid_0's l1: 1.31884\n",
            "[99]\tvalid_0's l2: 4.02299\tvalid_0's l1: 1.31893\n",
            "[100]\tvalid_0's l2: 4.01993\tvalid_0's l1: 1.31813\n",
            "[101]\tvalid_0's l2: 4.01664\tvalid_0's l1: 1.31715\n",
            "[102]\tvalid_0's l2: 4.00616\tvalid_0's l1: 1.3151\n",
            "[103]\tvalid_0's l2: 3.9939\tvalid_0's l1: 1.31257\n",
            "[104]\tvalid_0's l2: 3.99333\tvalid_0's l1: 1.31226\n",
            "[105]\tvalid_0's l2: 3.98987\tvalid_0's l1: 1.31145\n",
            "[106]\tvalid_0's l2: 3.98867\tvalid_0's l1: 1.31065\n",
            "[107]\tvalid_0's l2: 3.98876\tvalid_0's l1: 1.31002\n",
            "[108]\tvalid_0's l2: 3.98207\tvalid_0's l1: 1.30862\n",
            "[109]\tvalid_0's l2: 3.98393\tvalid_0's l1: 1.30871\n",
            "[110]\tvalid_0's l2: 3.9805\tvalid_0's l1: 1.30728\n",
            "[111]\tvalid_0's l2: 3.97503\tvalid_0's l1: 1.30578\n",
            "[112]\tvalid_0's l2: 3.97256\tvalid_0's l1: 1.30448\n",
            "[113]\tvalid_0's l2: 3.97142\tvalid_0's l1: 1.30466\n",
            "[114]\tvalid_0's l2: 3.97104\tvalid_0's l1: 1.30435\n",
            "[115]\tvalid_0's l2: 3.97019\tvalid_0's l1: 1.30367\n",
            "[116]\tvalid_0's l2: 3.96503\tvalid_0's l1: 1.30237\n",
            "[117]\tvalid_0's l2: 3.97159\tvalid_0's l1: 1.30328\n",
            "[118]\tvalid_0's l2: 3.9646\tvalid_0's l1: 1.30203\n",
            "[119]\tvalid_0's l2: 3.96422\tvalid_0's l1: 1.30207\n",
            "[120]\tvalid_0's l2: 3.96725\tvalid_0's l1: 1.30215\n",
            "[121]\tvalid_0's l2: 3.9709\tvalid_0's l1: 1.30229\n",
            "[122]\tvalid_0's l2: 3.9667\tvalid_0's l1: 1.30132\n",
            "[123]\tvalid_0's l2: 3.96475\tvalid_0's l1: 1.30132\n",
            "[124]\tvalid_0's l2: 3.96417\tvalid_0's l1: 1.3007\n",
            "[125]\tvalid_0's l2: 3.95835\tvalid_0's l1: 1.29913\n",
            "[126]\tvalid_0's l2: 3.96106\tvalid_0's l1: 1.29958\n",
            "[127]\tvalid_0's l2: 3.96083\tvalid_0's l1: 1.29934\n",
            "[128]\tvalid_0's l2: 3.96174\tvalid_0's l1: 1.29994\n",
            "[129]\tvalid_0's l2: 3.96341\tvalid_0's l1: 1.30024\n",
            "[130]\tvalid_0's l2: 3.96397\tvalid_0's l1: 1.30029\n",
            "[131]\tvalid_0's l2: 3.95648\tvalid_0's l1: 1.29877\n",
            "[132]\tvalid_0's l2: 3.95662\tvalid_0's l1: 1.29937\n",
            "[133]\tvalid_0's l2: 3.9554\tvalid_0's l1: 1.29865\n",
            "[134]\tvalid_0's l2: 3.9554\tvalid_0's l1: 1.2981\n",
            "[135]\tvalid_0's l2: 3.953\tvalid_0's l1: 1.29702\n",
            "[136]\tvalid_0's l2: 3.95003\tvalid_0's l1: 1.29613\n",
            "[137]\tvalid_0's l2: 3.95465\tvalid_0's l1: 1.29703\n",
            "[138]\tvalid_0's l2: 3.96215\tvalid_0's l1: 1.29853\n",
            "[139]\tvalid_0's l2: 3.96304\tvalid_0's l1: 1.29911\n",
            "[140]\tvalid_0's l2: 3.96208\tvalid_0's l1: 1.29846\n",
            "[141]\tvalid_0's l2: 3.96388\tvalid_0's l1: 1.29817\n",
            "[142]\tvalid_0's l2: 3.96167\tvalid_0's l1: 1.29752\n",
            "[143]\tvalid_0's l2: 3.9584\tvalid_0's l1: 1.29751\n",
            "[144]\tvalid_0's l2: 3.95553\tvalid_0's l1: 1.29782\n",
            "[145]\tvalid_0's l2: 3.95274\tvalid_0's l1: 1.29798\n",
            "[146]\tvalid_0's l2: 3.95358\tvalid_0's l1: 1.29785\n",
            "Early stopping, best iteration is:\n",
            "[136]\tvalid_0's l2: 3.95003\tvalid_0's l1: 1.29613\n",
            "[1.7583871412266296, 1.9874679487919589, 0.6794539758084933, 0.5450233770986694]\n"
          ],
          "name": "stdout"
        }
      ]
    },
    {
      "cell_type": "code",
      "metadata": {
        "id": "VItxOhh8_O-I",
        "colab_type": "code",
        "outputId": "e0954cf0-b5c9-41ea-eb63-0765617e731c",
        "colab": {
          "base_uri": "https://localhost:8080/",
          "height": 312
        }
      },
      "source": [
        "plt.figure(figsize=(20,10))\n",
        "lgb.plot_importance(lgbm, max_num_features=10)\n",
        "plt.title(\"Featurertances\")\n",
        "plt.show()"
      ],
      "execution_count": 41,
      "outputs": [
        {
          "output_type": "display_data",
          "data": {
            "text/plain": [
              "<Figure size 1440x720 with 0 Axes>"
            ]
          },
          "metadata": {
            "tags": []
          }
        },
        {
          "output_type": "display_data",
          "data": {
            "image/png": "[encoded data removed]",
            "text/plain": [
              "<Figure size 432x288 with 1 Axes>"
            ]
          },
          "metadata": {
            "tags": []
          }
        }
      ]
    },
    {
      "cell_type": "code",
      "metadata": {
        "id": "Q1Yc3h2hAHT7",
        "colab_type": "code",
        "outputId": "c3eb768a-25e5-42c5-b460-560d413064c8",
        "colab": {
          "base_uri": "https://localhost:8080/",
          "height": 990
        }
      },
      "source": [
        "booster = lgbm.booster_\n",
        "importance = booster.feature_importance(importance_type='split')\n",
        "feature_name = booster.feature_name()\n",
        "feature_importance = pd.DataFrame({'cols':feature_name,'imp':importance} ).sort_values('imp', ascending=False)\n",
        "feature_importance"
      ],
      "execution_count": 42,
      "outputs": [
        {
          "output_type": "execute_result",
          "data": {
            "text/html": [
              "<div>\n",
              "<style scoped>\n",
              "    .dataframe tbody tr th:only-of-type {\n",
              "        vertical-align: middle;\n",
              "    }\n",
              "\n",
              "    .dataframe tbody tr th {\n",
              "        vertical-align: top;\n",
              "    }\n",
              "\n",
              "    .dataframe thead th {\n",
              "        text-align: right;\n",
              "    }\n",
              "</style>\n",
              "<table border=\"1\" class=\"dataframe\">\n",
              "  <thead>\n",
              "    <tr style=\"text-align: right;\">\n",
              "      <th></th>\n",
              "      <th>cols</th>\n",
              "      <th>imp</th>\n",
              "    </tr>\n",
              "  </thead>\n",
              "  <tbody>\n",
              "    <tr>\n",
              "      <th>17</th>\n",
              "      <td>release_year</td>\n",
              "      <td>78</td>\n",
              "    </tr>\n",
              "    <tr>\n",
              "      <th>30</th>\n",
              "      <td>year_to_budget</td>\n",
              "      <td>57</td>\n",
              "    </tr>\n",
              "    <tr>\n",
              "      <th>2</th>\n",
              "      <td>runtime</td>\n",
              "      <td>53</td>\n",
              "    </tr>\n",
              "    <tr>\n",
              "      <th>3</th>\n",
              "      <td>popularity2</td>\n",
              "      <td>50</td>\n",
              "    </tr>\n",
              "    <tr>\n",
              "      <th>5</th>\n",
              "      <td>totalVotes</td>\n",
              "      <td>46</td>\n",
              "    </tr>\n",
              "    <tr>\n",
              "      <th>0</th>\n",
              "      <td>budget</td>\n",
              "      <td>44</td>\n",
              "    </tr>\n",
              "    <tr>\n",
              "      <th>29</th>\n",
              "      <td>budget_release_year</td>\n",
              "      <td>43</td>\n",
              "    </tr>\n",
              "    <tr>\n",
              "      <th>27</th>\n",
              "      <td>totalVotes_to_popularity</td>\n",
              "      <td>42</td>\n",
              "    </tr>\n",
              "    <tr>\n",
              "      <th>14</th>\n",
              "      <td>len_title</td>\n",
              "      <td>40</td>\n",
              "    </tr>\n",
              "    <tr>\n",
              "      <th>28</th>\n",
              "      <td>popularity_release_year</td>\n",
              "      <td>38</td>\n",
              "    </tr>\n",
              "    <tr>\n",
              "      <th>4</th>\n",
              "      <td>rating</td>\n",
              "      <td>36</td>\n",
              "    </tr>\n",
              "    <tr>\n",
              "      <th>25</th>\n",
              "      <td>rating_to_runtime</td>\n",
              "      <td>36</td>\n",
              "    </tr>\n",
              "    <tr>\n",
              "      <th>18</th>\n",
              "      <td>release_month</td>\n",
              "      <td>34</td>\n",
              "    </tr>\n",
              "    <tr>\n",
              "      <th>1</th>\n",
              "      <td>popularity</td>\n",
              "      <td>34</td>\n",
              "    </tr>\n",
              "    <tr>\n",
              "      <th>26</th>\n",
              "      <td>budget_to_totalVotes</td>\n",
              "      <td>32</td>\n",
              "    </tr>\n",
              "    <tr>\n",
              "      <th>12</th>\n",
              "      <td>count_staff</td>\n",
              "      <td>32</td>\n",
              "    </tr>\n",
              "    <tr>\n",
              "      <th>15</th>\n",
              "      <td>len_overview</td>\n",
              "      <td>30</td>\n",
              "    </tr>\n",
              "    <tr>\n",
              "      <th>10</th>\n",
              "      <td>count_cast</td>\n",
              "      <td>30</td>\n",
              "    </tr>\n",
              "    <tr>\n",
              "      <th>19</th>\n",
              "      <td>release_wday</td>\n",
              "      <td>28</td>\n",
              "    </tr>\n",
              "    <tr>\n",
              "      <th>16</th>\n",
              "      <td>len_tagline</td>\n",
              "      <td>27</td>\n",
              "    </tr>\n",
              "    <tr>\n",
              "      <th>24</th>\n",
              "      <td>budget_to_popularity</td>\n",
              "      <td>25</td>\n",
              "    </tr>\n",
              "    <tr>\n",
              "      <th>20</th>\n",
              "      <td>in_collection</td>\n",
              "      <td>20</td>\n",
              "    </tr>\n",
              "    <tr>\n",
              "      <th>13</th>\n",
              "      <td>count_keyword</td>\n",
              "      <td>19</td>\n",
              "    </tr>\n",
              "    <tr>\n",
              "      <th>11</th>\n",
              "      <td>count_crew</td>\n",
              "      <td>17</td>\n",
              "    </tr>\n",
              "    <tr>\n",
              "      <th>8</th>\n",
              "      <td>count_company</td>\n",
              "      <td>15</td>\n",
              "    </tr>\n",
              "    <tr>\n",
              "      <th>6</th>\n",
              "      <td>count_genre</td>\n",
              "      <td>15</td>\n",
              "    </tr>\n",
              "    <tr>\n",
              "      <th>21</th>\n",
              "      <td>us_country</td>\n",
              "      <td>12</td>\n",
              "    </tr>\n",
              "    <tr>\n",
              "      <th>22</th>\n",
              "      <td>en_lang</td>\n",
              "      <td>11</td>\n",
              "    </tr>\n",
              "    <tr>\n",
              "      <th>7</th>\n",
              "      <td>count_country</td>\n",
              "      <td>7</td>\n",
              "    </tr>\n",
              "    <tr>\n",
              "      <th>9</th>\n",
              "      <td>count_splang</td>\n",
              "      <td>1</td>\n",
              "    </tr>\n",
              "    <tr>\n",
              "      <th>23</th>\n",
              "      <td>has_hompage</td>\n",
              "      <td>0</td>\n",
              "    </tr>\n",
              "  </tbody>\n",
              "</table>\n",
              "</div>"
            ],
            "text/plain": [
              "                        cols  imp\n",
              "17              release_year   78\n",
              "30            year_to_budget   57\n",
              "2                    runtime   53\n",
              "3                popularity2   50\n",
              "5                 totalVotes   46\n",
              "0                     budget   44\n",
              "29       budget_release_year   43\n",
              "27  totalVotes_to_popularity   42\n",
              "14                 len_title   40\n",
              "28   popularity_release_year   38\n",
              "4                     rating   36\n",
              "25         rating_to_runtime   36\n",
              "18             release_month   34\n",
              "1                 popularity   34\n",
              "26      budget_to_totalVotes   32\n",
              "12               count_staff   32\n",
              "15              len_overview   30\n",
              "10                count_cast   30\n",
              "19              release_wday   28\n",
              "16               len_tagline   27\n",
              "24      budget_to_popularity   25\n",
              "20             in_collection   20\n",
              "13             count_keyword   19\n",
              "11                count_crew   17\n",
              "8              count_company   15\n",
              "6                count_genre   15\n",
              "21                us_country   12\n",
              "22                   en_lang   11\n",
              "7              count_country    7\n",
              "9               count_splang    1\n",
              "23               has_hompage    0"
            ]
          },
          "metadata": {
            "tags": []
          },
          "execution_count": 42
        }
      ]
    },
    {
      "cell_type": "code",
      "metadata": {
        "id": "_5b3h6axAmmJ",
        "colab_type": "code",
        "outputId": "75a14243-b5b0-4a91-d8a7-f622805906c1",
        "colab": {
          "base_uri": "https://localhost:8080/",
          "height": 501
        }
      },
      "source": [
        "plot_fi(feature_importance[:10])"
      ],
      "execution_count": 43,
      "outputs": [
        {
          "output_type": "execute_result",
          "data": {
            "text/plain": [
              "<matplotlib.axes._subplots.AxesSubplot at 0x7f816e0cc940>"
            ]
          },
          "metadata": {
            "tags": []
          },
          "execution_count": 43
        },
        {
          "output_type": "display_data",
          "data": {
            "image/png": "[encoded data removed]",
            "text/plain": [
              "<Figure size 720x576 with 1 Axes>"
            ]
          },
          "metadata": {
            "tags": []
          }
        }
      ]
    },
    {
      "cell_type": "markdown",
      "metadata": {
        "id": "7zHNnkbI2Hxb",
        "colab_type": "text"
      },
      "source": [
        "## Prepare Submission"
      ]
    },
    {
      "cell_type": "code",
      "metadata": {
        "id": "0xkqimvq2kkr",
        "colab_type": "code",
        "colab": {}
      },
      "source": [
        "#prepare data for submission\n",
        "\n",
        "predictions = np.expm1(rf.predict(test_new))"
      ],
      "execution_count": 0,
      "outputs": []
    },
    {
      "cell_type": "code",
      "metadata": {
        "id": "YBhKJV4Nh88n",
        "colab_type": "code",
        "outputId": "3d85e9bc-51ae-4735-9034-619456a0b80e",
        "colab": {
          "base_uri": "https://localhost:8080/",
          "height": 200
        }
      },
      "source": [
        "sub = pd.read_csv('sample_submission.csv')\n",
        "sub['revenue'] = np.round(predictions)\n",
        "sub.head()"
      ],
      "execution_count": 47,
      "outputs": [
        {
          "output_type": "execute_result",
          "data": {
            "text/html": [
              "<div>\n",
              "<style scoped>\n",
              "    .dataframe tbody tr th:only-of-type {\n",
              "        vertical-align: middle;\n",
              "    }\n",
              "\n",
              "    .dataframe tbody tr th {\n",
              "        vertical-align: top;\n",
              "    }\n",
              "\n",
              "    .dataframe thead th {\n",
              "        text-align: right;\n",
              "    }\n",
              "</style>\n",
              "<table border=\"1\" class=\"dataframe\">\n",
              "  <thead>\n",
              "    <tr style=\"text-align: right;\">\n",
              "      <th></th>\n",
              "      <th>id</th>\n",
              "      <th>revenue</th>\n",
              "    </tr>\n",
              "  </thead>\n",
              "  <tbody>\n",
              "    <tr>\n",
              "      <th>0</th>\n",
              "      <td>3001</td>\n",
              "      <td>901147.0</td>\n",
              "    </tr>\n",
              "    <tr>\n",
              "      <th>1</th>\n",
              "      <td>3002</td>\n",
              "      <td>1272541.0</td>\n",
              "    </tr>\n",
              "    <tr>\n",
              "      <th>2</th>\n",
              "      <td>3003</td>\n",
              "      <td>5234618.0</td>\n",
              "    </tr>\n",
              "    <tr>\n",
              "      <th>3</th>\n",
              "      <td>3004</td>\n",
              "      <td>12268661.0</td>\n",
              "    </tr>\n",
              "    <tr>\n",
              "      <th>4</th>\n",
              "      <td>3005</td>\n",
              "      <td>547972.0</td>\n",
              "    </tr>\n",
              "  </tbody>\n",
              "</table>\n",
              "</div>"
            ],
            "text/plain": [
              "     id     revenue\n",
              "0  3001    901147.0\n",
              "1  3002   1272541.0\n",
              "2  3003   5234618.0\n",
              "3  3004  12268661.0\n",
              "4  3005    547972.0"
            ]
          },
          "metadata": {
            "tags": []
          },
          "execution_count": 47
        }
      ]
    },
    {
      "cell_type": "code",
      "metadata": {
        "id": "wKre1sdd4Ksq",
        "colab_type": "code",
        "colab": {}
      },
      "source": [
        "sub.to_csv('submission.csv', index=False)\n",
        "from google.colab import files\n",
        "files.download('submission.csv')"
      ],
      "execution_count": 0,
      "outputs": []
    }
  ]
}